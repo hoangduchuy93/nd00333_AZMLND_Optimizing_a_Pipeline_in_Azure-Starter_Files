{
  "cells": [
    {
      "cell_type": "code",
      "source": [
        "%pip install azureml-widgets\n",
        "%pip install azureml-sdk[notebooks]"
      ],
      "outputs": [
        {
          "output_type": "display_data",
          "data": {
            "application/vnd.livy.statement-meta+json": {
              "spark_pool": "c38271bb-6ebc-4469-90f0-bf01f6a3d71c",
              "statement_id": 11,
              "statement_ids": [
                6,
                7,
                8,
                9,
                10,
                11
              ],
              "state": "finished",
              "livy_statement_state": "available",
              "spark_jobs": {
                "numbers": {
                  "SUCCEEDED": 0,
                  "RUNNING": 0,
                  "FAILED": 0,
                  "UNKNOWN": 0
                },
                "jobs": [],
                "limit": 20,
                "rule": "ALL_DESC"
              },
              "session_id": "2",
              "normalized_state": "finished",
              "queued_time": "2024-08-24T10:14:25.597327Z",
              "session_start_time": "2024-08-24T10:14:25.6137385Z",
              "execution_start_time": "2024-08-24T10:15:23.3585661Z",
              "execution_finish_time": "2024-08-24T10:16:27.1498597Z",
              "parent_msg_id": "09ad39e3-122a-4148-b335-61f8fa43628b"
            },
            "text/plain": "StatementMeta(c38271bb-6ebc-4469-90f0-bf01f6a3d71c, 2, 11, Finished, Available, Finished)"
          },
          "metadata": {}
        },
        {
          "output_type": "execute_result",
          "execution_count": 1,
          "data": {},
          "metadata": {}
        },
        {
          "output_type": "stream",
          "name": "stdout",
          "text": "Collecting azureml-widgets\n  Downloading azureml_widgets-1.57.0-py3-none-any.whl (14.1 MB)\n\u001b[2K     \u001b[90m━━━━━━━━━━━━━━━━━━━━━━━━━━━━━━━━━━━━━━━\u001b[0m \u001b[32m14.1/14.1 MB\u001b[0m \u001b[31m104.3 MB/s\u001b[0m eta \u001b[36m0:00:00\u001b[0m00:01\u001b[0m00:01\u001b[0m\n\u001b[?25hRequirement already satisfied: ipywidgets<8.0.0,>=7.0.0 in /home/trusted-service-user/cluster-env/env/lib/python3.10/site-packages (from azureml-widgets) (7.7.0)\nRequirement already satisfied: jinja2<4.0 in /home/trusted-service-user/cluster-env/env/lib/python3.10/site-packages (from azureml-widgets) (3.1.2)\nRequirement already satisfied: azure-storage-blob>=12.6.0 in /home/trusted-service-user/cluster-env/env/lib/python3.10/site-packages (from azureml-widgets) (12.14.1)\nCollecting azureml-core~=1.57.0\n  Downloading azureml_core-1.57.0-py3-none-any.whl (3.3 MB)\n\u001b[2K     \u001b[90m━━━━━━━━━━━━━━━━━━━━━━━━━━━━━━━━━━━━━━━━\u001b[0m \u001b[32m3.3/3.3 MB\u001b[0m \u001b[31m114.9 MB/s\u001b[0m eta \u001b[36m0:00:00\u001b[0m\n\u001b[?25hCollecting azureml-telemetry~=1.57.0\n  Downloading azureml_telemetry-1.57.0-py3-none-any.whl (30 kB)\nRequirement already satisfied: azure-core<2.0.0,>=1.24.2 in /home/trusted-service-user/cluster-env/env/lib/python3.10/site-packages (from azure-storage-blob>=12.6.0->azureml-widgets) (1.26.1)\nRequirement already satisfied: msrest>=0.7.1 in /home/trusted-service-user/cluster-env/env/lib/python3.10/site-packages (from azure-storage-blob>=12.6.0->azureml-widgets) (0.7.1)\nRequirement already satisfied: cryptography>=2.1.4 in /home/trusted-service-user/cluster-env/env/lib/python3.10/site-packages (from azure-storage-blob>=12.6.0->azureml-widgets) (38.0.3)\nRequirement already satisfied: SecretStorage<4.0.0 in /home/trusted-service-user/cluster-env/env/lib/python3.10/site-packages (from azureml-core~=1.57.0->azureml-widgets) (3.3.3)\nRequirement already satisfied: requests[socks]<3.0.0,>=2.19.1 in /home/trusted-service-user/cluster-env/env/lib/python3.10/site-packages (from azureml-core~=1.57.0->azureml-widgets) (2.28.1)\nRequirement already satisfied: msal<2.0.0,>=1.15.0 in /home/trusted-service-user/cluster-env/env/lib/python3.10/site-packages (from azureml-core~=1.57.0->azureml-widgets) (1.18.0)\nRequirement already satisfied: argcomplete<4 in /home/trusted-service-user/cluster-env/env/lib/python3.10/site-packages (from azureml-core~=1.57.0->azureml-widgets) (2.0.0)\nRequirement already satisfied: azure-common<2.0.0,>=1.1.12 in /home/trusted-service-user/cluster-env/env/lib/python3.10/site-packages (from azureml-core~=1.57.0->azureml-widgets) (1.1.28)\nRequirement already satisfied: adal<=1.2.7,>=1.2.0 in /home/trusted-service-user/cluster-env/env/lib/python3.10/site-packages (from azureml-core~=1.57.0->azureml-widgets) (1.2.7)\nRequirement already satisfied: pytz in /home/trusted-service-user/cluster-env/env/lib/python3.10/site-packages (from azureml-core~=1.57.0->azureml-widgets) (2022.6)\nRequirement already satisfied: contextlib2<22.0.0 in /home/trusted-service-user/cluster-env/env/lib/python3.10/site-packages (from azureml-core~=1.57.0->azureml-widgets) (21.6.0)\nRequirement already satisfied: azure-mgmt-resource<=24.0.0,>=15.0.0 in /home/trusted-service-user/cluster-env/env/lib/python3.10/site-packages (from azureml-core~=1.57.0->azureml-widgets) (21.2.1)\nRequirement already satisfied: msrestazure<=0.7,>=0.4.33 in /home/trusted-service-user/cluster-env/env/lib/python3.10/site-packages (from azureml-core~=1.57.0->azureml-widgets) (0.6.4)\nRequirement already satisfied: azure-mgmt-storage<=22.0.0,>=16.0.0 in /home/trusted-service-user/cluster-env/env/lib/python3.10/site-packages (from azureml-core~=1.57.0->azureml-widgets) (20.1.0)\nRequirement already satisfied: msal-extensions<=2.0.0,>=0.3.0 in /home/trusted-service-user/cluster-env/env/lib/python3.10/site-packages (from azureml-core~=1.57.0->azureml-widgets) (1.0.0)\nRequirement already satisfied: jsonpickle<4.0.0 in /home/trusted-service-user/cluster-env/env/lib/python3.10/site-packages (from azureml-core~=1.57.0->azureml-widgets) (2.2.0)\nRequirement already satisfied: pkginfo in /home/trusted-service-user/cluster-env/env/lib/python3.10/site-packages (from azureml-core~=1.57.0->azureml-widgets) (1.8.3)\nCollecting urllib3<3.0.0,>1.26.17\n  Downloading urllib3-2.2.2-py3-none-any.whl (121 kB)\n\u001b[2K     \u001b[90m━━━━━━━━━━━━━━━━━━━━━━━━━━━━━━━━━━━━━━\u001b[0m \u001b[32m121.4/121.4 KB\u001b[0m \u001b[31m39.8 MB/s\u001b[0m eta \u001b[36m0:00:00\u001b[0m\n\u001b[?25hRequirement already satisfied: PyJWT<3.0.0 in /home/trusted-service-user/cluster-env/env/lib/python3.10/site-packages (from azureml-core~=1.57.0->azureml-widgets) (2.6.0)\nCollecting azure-mgmt-network<=26.0.0\n  Downloading azure_mgmt_network-26.0.0-py3-none-any.whl (617 kB)\n\u001b[2K     \u001b[90m━━━━━━━━━━━━━━━━━━━━━━━━━━━━━━━━━━━━━━\u001b[0m \u001b[32m617.4/617.4 KB\u001b[0m \u001b[31m79.4 MB/s\u001b[0m eta \u001b[36m0:00:00\u001b[0m\n\u001b[?25hRequirement already satisfied: docker<8.0.0 in /home/trusted-service-user/cluster-env/env/lib/python3.10/site-packages (from azureml-core~=1.57.0->azureml-widgets) (6.0.1)\nRequirement already satisfied: ndg-httpsclient<=0.5.1 in /home/trusted-service-user/cluster-env/env/lib/python3.10/site-packages (from azureml-core~=1.57.0->azureml-widgets) (0.5.1)\nRequirement already satisfied: azure-graphrbac<1.0.0,>=0.40.0 in /home/trusted-service-user/cluster-env/env/lib/python3.10/site-packages (from azureml-core~=1.57.0->azureml-widgets) (0.61.1)\nRequirement already satisfied: packaging<=25.0,>=20.0 in /home/trusted-service-user/cluster-env/env/lib/python3.10/site-packages (from azureml-core~=1.57.0->azureml-widgets) (21.3)\nRequirement already satisfied: humanfriendly<11.0,>=4.7 in /home/trusted-service-user/cluster-env/env/lib/python3.10/site-packages (from azureml-core~=1.57.0->azureml-widgets) (10.0)\nRequirement already satisfied: backports.tempfile in /home/trusted-service-user/cluster-env/env/lib/python3.10/site-packages (from azureml-core~=1.57.0->azureml-widgets) (1.0)\nRequirement already satisfied: pyopenssl<25.0.0 in /home/trusted-service-user/cluster-env/env/lib/python3.10/site-packages (from azureml-core~=1.57.0->azureml-widgets) (22.1.0)\nRequirement already satisfied: pathspec<1.0.0 in /home/trusted-service-user/cluster-env/env/lib/python3.10/site-packages (from azureml-core~=1.57.0->azureml-widgets) (0.10.1)\nRequirement already satisfied: azure-mgmt-containerregistry<11,>=8.2.0 in /home/trusted-service-user/cluster-env/env/lib/python3.10/site-packages (from azureml-core~=1.57.0->azureml-widgets) (10.0.0)\nRequirement already satisfied: paramiko<4.0.0,>=2.0.8 in /home/trusted-service-user/cluster-env/env/lib/python3.10/site-packages (from azureml-core~=1.57.0->azureml-widgets) (2.12.0)\nRequirement already satisfied: azure-mgmt-authorization<5,>=0.40.0 in /home/trusted-service-user/cluster-env/env/lib/python3.10/site-packages (from azureml-core~=1.57.0->azureml-widgets) (2.0.0)\nRequirement already satisfied: jmespath<2.0.0 in /home/trusted-service-user/cluster-env/env/lib/python3.10/site-packages (from azureml-core~=1.57.0->azureml-widgets) (1.0.1)\nRequirement already satisfied: azure-mgmt-keyvault<11.0.0,>=0.40.0 in /home/trusted-service-user/cluster-env/env/lib/python3.10/site-packages (from azureml-core~=1.57.0->azureml-widgets) (10.1.0)\nRequirement already satisfied: python-dateutil<3.0.0,>=2.7.3 in /home/trusted-service-user/cluster-env/env/lib/python3.10/site-packages (from azureml-core~=1.57.0->azureml-widgets) (2.8.2)\nRequirement already satisfied: knack<0.12.0 in /home/trusted-service-user/cluster-env/env/lib/python3.10/site-packages (from azureml-core~=1.57.0->azureml-widgets) (0.10.0)\nRequirement already satisfied: applicationinsights in /home/trusted-service-user/cluster-env/env/lib/python3.10/site-packages (from azureml-telemetry~=1.57.0->azureml-widgets) (0.11.10)\nRequirement already satisfied: ipython-genutils~=0.2.0 in /home/trusted-service-user/cluster-env/env/lib/python3.10/site-packages (from ipywidgets<8.0.0,>=7.0.0->azureml-widgets) (0.2.0)\nRequirement already satisfied: jupyterlab-widgets>=1.0.0 in /home/trusted-service-user/cluster-env/env/lib/python3.10/site-packages (from ipywidgets<8.0.0,>=7.0.0->azureml-widgets) (3.0.3)\nRequirement already satisfied: ipython>=4.0.0 in /home/trusted-service-user/cluster-env/env/lib/python3.10/site-packages (from ipywidgets<8.0.0,>=7.0.0->azureml-widgets) (8.6.0)\nRequirement already satisfied: traitlets>=4.3.1 in /home/trusted-service-user/cluster-env/env/lib/python3.10/site-packages (from ipywidgets<8.0.0,>=7.0.0->azureml-widgets) (5.5.0)\nRequirement already satisfied: nbformat>=4.2.0 in /home/trusted-service-user/cluster-env/env/lib/python3.10/site-packages (from ipywidgets<8.0.0,>=7.0.0->azureml-widgets) (5.7.0)\nRequirement already satisfied: widgetsnbextension~=3.6.0 in /home/trusted-service-user/cluster-env/env/lib/python3.10/site-packages (from ipywidgets<8.0.0,>=7.0.0->azureml-widgets) (3.6.1)\nRequirement already satisfied: ipykernel>=4.5.1 in /home/trusted-service-user/cluster-env/env/lib/python3.10/site-packages (from ipywidgets<8.0.0,>=7.0.0->azureml-widgets) (6.17.0)\nRequirement already satisfied: MarkupSafe>=2.0 in /home/trusted-service-user/cluster-env/env/lib/python3.10/site-packages (from jinja2<4.0->azureml-widgets) (2.1.1)\nRequirement already satisfied: typing-extensions>=4.0.1 in /home/trusted-service-user/cluster-env/env/lib/python3.10/site-packages (from azure-core<2.0.0,>=1.24.2->azure-storage-blob>=12.6.0->azureml-widgets) (4.4.0)\nRequirement already satisfied: six>=1.11.0 in /home/trusted-service-user/cluster-env/env/lib/python3.10/site-packages (from azure-core<2.0.0,>=1.24.2->azure-storage-blob>=12.6.0->azureml-widgets) (1.16.0)\nRequirement already satisfied: azure-mgmt-core<2.0.0,>=1.2.0 in /home/trusted-service-user/cluster-env/env/lib/python3.10/site-packages (from azure-mgmt-authorization<5,>=0.40.0->azureml-core~=1.57.0->azureml-widgets) (1.3.2)\nCollecting isodate>=0.6.1\n  Downloading isodate-0.6.1-py2.py3-none-any.whl (41 kB)\n\u001b[2K     \u001b[90m━━━━━━━━━━━━━━━━━━━━━━━━━━━━━━━━━━━━━━━━\u001b[0m \u001b[32m41.7/41.7 KB\u001b[0m \u001b[31m16.9 MB/s\u001b[0m eta \u001b[36m0:00:00\u001b[0m\n\u001b[?25hRequirement already satisfied: cffi>=1.12 in /home/trusted-service-user/cluster-env/env/lib/python3.10/site-packages (from cryptography>=2.1.4->azure-storage-blob>=12.6.0->azureml-widgets) (1.15.1)\nRequirement already satisfied: websocket-client>=0.32.0 in /home/trusted-service-user/cluster-env/env/lib/python3.10/site-packages (from docker<8.0.0->azureml-core~=1.57.0->azureml-widgets) (1.4.2)\nRequirement already satisfied: matplotlib-inline>=0.1 in /home/trusted-service-user/cluster-env/env/lib/python3.10/site-packages (from ipykernel>=4.5.1->ipywidgets<8.0.0,>=7.0.0->azureml-widgets) (0.1.6)\nRequirement already satisfied: pyzmq>=17 in /home/trusted-service-user/cluster-env/env/lib/python3.10/site-packages (from ipykernel>=4.5.1->ipywidgets<8.0.0,>=7.0.0->azureml-widgets) (24.0.1)\nRequirement already satisfied: jupyter-client>=6.1.12 in /home/trusted-service-user/cluster-env/env/lib/python3.10/site-packages (from ipykernel>=4.5.1->ipywidgets<8.0.0,>=7.0.0->azureml-widgets) (7.4.4)\nRequirement already satisfied: debugpy>=1.0 in /home/trusted-service-user/cluster-env/env/lib/python3.10/site-packages (from ipykernel>=4.5.1->ipywidgets<8.0.0,>=7.0.0->azureml-widgets) (1.6.3)\nRequirement already satisfied: tornado>=6.1 in /home/trusted-service-user/cluster-env/env/lib/python3.10/site-packages (from ipykernel>=4.5.1->ipywidgets<8.0.0,>=7.0.0->azureml-widgets) (6.2)\nRequirement already satisfied: nest-asyncio in /home/trusted-service-user/cluster-env/env/lib/python3.10/site-packages (from ipykernel>=4.5.1->ipywidgets<8.0.0,>=7.0.0->azureml-widgets) (1.5.6)\nRequirement already satisfied: psutil in /home/trusted-service-user/cluster-env/env/lib/python3.10/site-packages (from ipykernel>=4.5.1->ipywidgets<8.0.0,>=7.0.0->azureml-widgets) (5.9.4)\nRequirement already satisfied: decorator in /home/trusted-service-user/cluster-env/env/lib/python3.10/site-packages (from ipython>=4.0.0->ipywidgets<8.0.0,>=7.0.0->azureml-widgets) (5.1.1)\nRequirement already satisfied: prompt-toolkit<3.1.0,>3.0.1 in /home/trusted-service-user/cluster-env/env/lib/python3.10/site-packages (from ipython>=4.0.0->ipywidgets<8.0.0,>=7.0.0->azureml-widgets) (3.0.32)\nRequirement already satisfied: backcall in /home/trusted-service-user/cluster-env/env/lib/python3.10/site-packages (from ipython>=4.0.0->ipywidgets<8.0.0,>=7.0.0->azureml-widgets) (0.2.0)\nRequirement already satisfied: jedi>=0.16 in /home/trusted-service-user/cluster-env/env/lib/python3.10/site-packages (from ipython>=4.0.0->ipywidgets<8.0.0,>=7.0.0->azureml-widgets) (0.18.1)\nRequirement already satisfied: pygments>=2.4.0 in /home/trusted-service-user/cluster-env/env/lib/python3.10/site-packages (from ipython>=4.0.0->ipywidgets<8.0.0,>=7.0.0->azureml-widgets) (2.13.0)\nRequirement already satisfied: stack-data in /home/trusted-service-user/cluster-env/env/lib/python3.10/site-packages (from ipython>=4.0.0->ipywidgets<8.0.0,>=7.0.0->azureml-widgets) (0.6.0)\nRequirement already satisfied: pickleshare in /home/trusted-service-user/cluster-env/env/lib/python3.10/site-packages (from ipython>=4.0.0->ipywidgets<8.0.0,>=7.0.0->azureml-widgets) (0.7.5)\nRequirement already satisfied: pexpect>4.3 in /home/trusted-service-user/cluster-env/env/lib/python3.10/site-packages (from ipython>=4.0.0->ipywidgets<8.0.0,>=7.0.0->azureml-widgets) (4.8.0)\nRequirement already satisfied: tabulate in /home/trusted-service-user/cluster-env/env/lib/python3.10/site-packages (from knack<0.12.0->azureml-core~=1.57.0->azureml-widgets) (0.9.0)\nRequirement already satisfied: pyyaml in /home/trusted-service-user/cluster-env/env/lib/python3.10/site-packages (from knack<0.12.0->azureml-core~=1.57.0->azureml-widgets) (6.0)\nRequirement already satisfied: portalocker<3,>=1.0 in /home/trusted-service-user/cluster-env/env/lib/python3.10/site-packages (from msal-extensions<=2.0.0,>=0.3.0->azureml-core~=1.57.0->azureml-widgets) (2.6.0)\nRequirement already satisfied: certifi>=2017.4.17 in /home/trusted-service-user/cluster-env/env/lib/python3.10/site-packages (from msrest>=0.7.1->azure-storage-blob>=12.6.0->azureml-widgets) (2022.9.24)\nRequirement already satisfied: requests-oauthlib>=0.5.0 in /home/trusted-service-user/cluster-env/env/lib/python3.10/site-packages (from msrest>=0.7.1->azure-storage-blob>=12.6.0->azureml-widgets) (1.3.1)\nRequirement already satisfied: jupyter-core in /home/trusted-service-user/cluster-env/env/lib/python3.10/site-packages (from nbformat>=4.2.0->ipywidgets<8.0.0,>=7.0.0->azureml-widgets) (4.11.2)\nRequirement already satisfied: fastjsonschema in /home/trusted-service-user/cluster-env/env/lib/python3.10/site-packages (from nbformat>=4.2.0->ipywidgets<8.0.0,>=7.0.0->azureml-widgets) (2.16.2)\nRequirement already satisfied: jsonschema>=2.6 in /home/trusted-service-user/cluster-env/env/lib/python3.10/site-packages (from nbformat>=4.2.0->ipywidgets<8.0.0,>=7.0.0->azureml-widgets) (4.17.0)\nRequirement already satisfied: pyasn1>=0.1.1 in /home/trusted-service-user/cluster-env/env/lib/python3.10/site-packages (from ndg-httpsclient<=0.5.1->azureml-core~=1.57.0->azureml-widgets) (0.4.8)\nRequirement already satisfied: pyparsing!=3.0.5,>=2.0.2 in /home/trusted-service-user/cluster-env/env/lib/python3.10/site-packages (from packaging<=25.0,>=20.0->azureml-core~=1.57.0->azureml-widgets) (3.0.9)\nRequirement already satisfied: bcrypt>=3.1.3 in /home/trusted-service-user/cluster-env/env/lib/python3.10/site-packages (from paramiko<4.0.0,>=2.0.8->azureml-core~=1.57.0->azureml-widgets) (4.0.1)\nRequirement already satisfied: pynacl>=1.0.1 in /home/trusted-service-user/cluster-env/env/lib/python3.10/site-packages (from paramiko<4.0.0,>=2.0.8->azureml-core~=1.57.0->azureml-widgets) (1.5.0)\nRequirement already satisfied: idna<4,>=2.5 in /home/trusted-service-user/cluster-env/env/lib/python3.10/site-packages (from requests[socks]<3.0.0,>=2.19.1->azureml-core~=1.57.0->azureml-widgets) (3.4)\nCollecting urllib3<3.0.0,>1.26.17\n  Downloading urllib3-1.26.19-py2.py3-none-any.whl (143 kB)\n\u001b[2K     \u001b[90m━━━━━━━━━━━━━━━━━━━━━━━━━━━━━━━━━━━━━━\u001b[0m \u001b[32m143.9/143.9 KB\u001b[0m \u001b[31m45.3 MB/s\u001b[0m eta \u001b[36m0:00:00\u001b[0m\n\u001b[?25hRequirement already satisfied: charset-normalizer<3,>=2 in /home/trusted-service-user/cluster-env/env/lib/python3.10/site-packages (from requests[socks]<3.0.0,>=2.19.1->azureml-core~=1.57.0->azureml-widgets) (2.1.1)\nRequirement already satisfied: PySocks!=1.5.7,>=1.5.6 in /home/trusted-service-user/cluster-env/env/lib/python3.10/site-packages (from requests[socks]<3.0.0,>=2.19.1->azureml-core~=1.57.0->azureml-widgets) (1.7.1)\nRequirement already satisfied: jeepney>=0.6 in /home/trusted-service-user/cluster-env/env/lib/python3.10/site-packages (from SecretStorage<4.0.0->azureml-core~=1.57.0->azureml-widgets) (0.8.0)\nRequirement already satisfied: notebook>=4.4.1 in /home/trusted-service-user/cluster-env/env/lib/python3.10/site-packages (from widgetsnbextension~=3.6.0->ipywidgets<8.0.0,>=7.0.0->azureml-widgets) (6.5.2)\nRequirement already satisfied: backports.weakref in /home/trusted-service-user/cluster-env/env/lib/python3.10/site-packages (from backports.tempfile->azureml-core~=1.57.0->azureml-widgets) (1.0.post1)\nRequirement already satisfied: pycparser in /home/trusted-service-user/cluster-env/env/lib/python3.10/site-packages (from cffi>=1.12->cryptography>=2.1.4->azure-storage-blob>=12.6.0->azureml-widgets) (2.21)\nRequirement already satisfied: parso<0.9.0,>=0.8.0 in /home/trusted-service-user/cluster-env/env/lib/python3.10/site-packages (from jedi>=0.16->ipython>=4.0.0->ipywidgets<8.0.0,>=7.0.0->azureml-widgets) (0.8.3)\nRequirement already satisfied: attrs>=17.4.0 in /home/trusted-service-user/cluster-env/env/lib/python3.10/site-packages (from jsonschema>=2.6->nbformat>=4.2.0->ipywidgets<8.0.0,>=7.0.0->azureml-widgets) (22.1.0)\nRequirement already satisfied: pyrsistent!=0.17.0,!=0.17.1,!=0.17.2,>=0.14.0 in /home/trusted-service-user/cluster-env/env/lib/python3.10/site-packages (from jsonschema>=2.6->nbformat>=4.2.0->ipywidgets<8.0.0,>=7.0.0->azureml-widgets) (0.19.2)\nRequirement already satisfied: entrypoints in /home/trusted-service-user/cluster-env/env/lib/python3.10/site-packages (from jupyter-client>=6.1.12->ipykernel>=4.5.1->ipywidgets<8.0.0,>=7.0.0->azureml-widgets) (0.4)\nRequirement already satisfied: Send2Trash>=1.8.0 in /home/trusted-service-user/cluster-env/env/lib/python3.10/site-packages (from notebook>=4.4.1->widgetsnbextension~=3.6.0->ipywidgets<8.0.0,>=7.0.0->azureml-widgets) (1.8.0)\nRequirement already satisfied: prometheus-client in /home/trusted-service-user/cluster-env/env/lib/python3.10/site-packages (from notebook>=4.4.1->widgetsnbextension~=3.6.0->ipywidgets<8.0.0,>=7.0.0->azureml-widgets) (0.15.0)\nRequirement already satisfied: argon2-cffi in /home/trusted-service-user/cluster-env/env/lib/python3.10/site-packages (from notebook>=4.4.1->widgetsnbextension~=3.6.0->ipywidgets<8.0.0,>=7.0.0->azureml-widgets) (21.3.0)\nRequirement already satisfied: nbconvert>=5 in /home/trusted-service-user/cluster-env/env/lib/python3.10/site-packages (from notebook>=4.4.1->widgetsnbextension~=3.6.0->ipywidgets<8.0.0,>=7.0.0->azureml-widgets) (7.2.3)\nRequirement already satisfied: terminado>=0.8.3 in /home/trusted-service-user/cluster-env/env/lib/python3.10/site-packages (from notebook>=4.4.1->widgetsnbextension~=3.6.0->ipywidgets<8.0.0,>=7.0.0->azureml-widgets) (0.17.0)\nRequirement already satisfied: nbclassic>=0.4.7 in /home/trusted-service-user/cluster-env/env/lib/python3.10/site-packages (from notebook>=4.4.1->widgetsnbextension~=3.6.0->ipywidgets<8.0.0,>=7.0.0->azureml-widgets) (0.4.8)\nRequirement already satisfied: ptyprocess>=0.5 in /home/trusted-service-user/cluster-env/env/lib/python3.10/site-packages (from pexpect>4.3->ipython>=4.0.0->ipywidgets<8.0.0,>=7.0.0->azureml-widgets) (0.7.0)\nRequirement already satisfied: wcwidth in /home/trusted-service-user/cluster-env/env/lib/python3.10/site-packages (from prompt-toolkit<3.1.0,>3.0.1->ipython>=4.0.0->ipywidgets<8.0.0,>=7.0.0->azureml-widgets) (0.2.5)\nRequirement already satisfied: oauthlib>=3.0.0 in /home/trusted-service-user/cluster-env/env/lib/python3.10/site-packages (from requests-oauthlib>=0.5.0->msrest>=0.7.1->azure-storage-blob>=12.6.0->azureml-widgets) (3.2.2)\nRequirement already satisfied: executing>=1.2.0 in /home/trusted-service-user/cluster-env/env/lib/python3.10/site-packages (from stack-data->ipython>=4.0.0->ipywidgets<8.0.0,>=7.0.0->azureml-widgets) (1.2.0)\nRequirement already satisfied: asttokens>=2.1.0 in /home/trusted-service-user/cluster-env/env/lib/python3.10/site-packages (from stack-data->ipython>=4.0.0->ipywidgets<8.0.0,>=7.0.0->azureml-widgets) (2.1.0)\nRequirement already satisfied: pure-eval in /home/trusted-service-user/cluster-env/env/lib/python3.10/site-packages (from stack-data->ipython>=4.0.0->ipywidgets<8.0.0,>=7.0.0->azureml-widgets) (0.2.2)\nRequirement already satisfied: jupyter-server>=1.8 in /home/trusted-service-user/cluster-env/env/lib/python3.10/site-packages (from nbclassic>=0.4.7->notebook>=4.4.1->widgetsnbextension~=3.6.0->ipywidgets<8.0.0,>=7.0.0->azureml-widgets) (1.23.0)\nRequirement already satisfied: notebook-shim>=0.1.0 in /home/trusted-service-user/cluster-env/env/lib/python3.10/site-packages (from nbclassic>=0.4.7->notebook>=4.4.1->widgetsnbextension~=3.6.0->ipywidgets<8.0.0,>=7.0.0->azureml-widgets) (0.2.2)\nRequirement already satisfied: beautifulsoup4 in /home/trusted-service-user/cluster-env/env/lib/python3.10/site-packages (from nbconvert>=5->notebook>=4.4.1->widgetsnbextension~=3.6.0->ipywidgets<8.0.0,>=7.0.0->azureml-widgets) (4.9.3)\nRequirement already satisfied: tinycss2 in /home/trusted-service-user/cluster-env/env/lib/python3.10/site-packages (from nbconvert>=5->notebook>=4.4.1->widgetsnbextension~=3.6.0->ipywidgets<8.0.0,>=7.0.0->azureml-widgets) (1.2.1)\nRequirement already satisfied: defusedxml in /home/trusted-service-user/cluster-env/env/lib/python3.10/site-packages (from nbconvert>=5->notebook>=4.4.1->widgetsnbextension~=3.6.0->ipywidgets<8.0.0,>=7.0.0->azureml-widgets) (0.7.1)\nRequirement already satisfied: pandocfilters>=1.4.1 in /home/trusted-service-user/cluster-env/env/lib/python3.10/site-packages (from nbconvert>=5->notebook>=4.4.1->widgetsnbextension~=3.6.0->ipywidgets<8.0.0,>=7.0.0->azureml-widgets) (1.5.0)\nRequirement already satisfied: jupyterlab-pygments in /home/trusted-service-user/cluster-env/env/lib/python3.10/site-packages (from nbconvert>=5->notebook>=4.4.1->widgetsnbextension~=3.6.0->ipywidgets<8.0.0,>=7.0.0->azureml-widgets) (0.2.2)\nRequirement already satisfied: bleach in /home/trusted-service-user/cluster-env/env/lib/python3.10/site-packages (from nbconvert>=5->notebook>=4.4.1->widgetsnbextension~=3.6.0->ipywidgets<8.0.0,>=7.0.0->azureml-widgets) (5.0.1)\nRequirement already satisfied: mistune<3,>=2.0.3 in /home/trusted-service-user/cluster-env/env/lib/python3.10/site-packages (from nbconvert>=5->notebook>=4.4.1->widgetsnbextension~=3.6.0->ipywidgets<8.0.0,>=7.0.0->azureml-widgets) (2.0.4)\nRequirement already satisfied: nbclient>=0.5.0 in /home/trusted-service-user/cluster-env/env/lib/python3.10/site-packages (from nbconvert>=5->notebook>=4.4.1->widgetsnbextension~=3.6.0->ipywidgets<8.0.0,>=7.0.0->azureml-widgets) (0.7.0)\nRequirement already satisfied: argon2-cffi-bindings in /home/trusted-service-user/cluster-env/env/lib/python3.10/site-packages (from argon2-cffi->notebook>=4.4.1->widgetsnbextension~=3.6.0->ipywidgets<8.0.0,>=7.0.0->azureml-widgets) (21.2.0)\nRequirement already satisfied: anyio<4,>=3.1.0 in /home/trusted-service-user/cluster-env/env/lib/python3.10/site-packages (from jupyter-server>=1.8->nbclassic>=0.4.7->notebook>=4.4.1->widgetsnbextension~=3.6.0->ipywidgets<8.0.0,>=7.0.0->azureml-widgets) (3.6.2)\nRequirement already satisfied: soupsieve>1.2 in /home/trusted-service-user/cluster-env/env/lib/python3.10/site-packages (from beautifulsoup4->nbconvert>=5->notebook>=4.4.1->widgetsnbextension~=3.6.0->ipywidgets<8.0.0,>=7.0.0->azureml-widgets) (2.3.2.post1)\nRequirement already satisfied: webencodings in /home/trusted-service-user/cluster-env/env/lib/python3.10/site-packages (from bleach->nbconvert>=5->notebook>=4.4.1->widgetsnbextension~=3.6.0->ipywidgets<8.0.0,>=7.0.0->azureml-widgets) (0.5.1)\nRequirement already satisfied: sniffio>=1.1 in /home/trusted-service-user/cluster-env/env/lib/python3.10/site-packages (from anyio<4,>=3.1.0->jupyter-server>=1.8->nbclassic>=0.4.7->notebook>=4.4.1->widgetsnbextension~=3.6.0->ipywidgets<8.0.0,>=7.0.0->azureml-widgets) (1.3.0)\nInstalling collected packages: urllib3, isodate, azure-mgmt-network, azureml-core, azureml-telemetry, azureml-widgets\n  Attempting uninstall: urllib3\n    Found existing installation: urllib3 1.26.4\n    Not uninstalling urllib3 at /home/trusted-service-user/cluster-env/env/lib/python3.10/site-packages, outside environment /nfs4/pyenv-03400fbd-2c32-464e-a2a6-480866e7663a\n    Can't uninstall 'urllib3'. No files were found to uninstall.\n  Attempting uninstall: isodate\n    Found existing installation: isodate 0.6.0\n    Not uninstalling isodate at /home/trusted-service-user/cluster-env/env/lib/python3.10/site-packages, outside environment /nfs4/pyenv-03400fbd-2c32-464e-a2a6-480866e7663a\n    Can't uninstall 'isodate'. No files were found to uninstall.\n  Attempting uninstall: azureml-core\n    Found existing installation: azureml-core 1.47.0\n    Not uninstalling azureml-core at /home/trusted-service-user/cluster-env/env/lib/python3.10/site-packages, outside environment /nfs4/pyenv-03400fbd-2c32-464e-a2a6-480866e7663a\n    Can't uninstall 'azureml-core'. No files were found to uninstall.\n  Attempting uninstall: azureml-telemetry\n    Found existing installation: azureml-telemetry 1.47.0\n    Not uninstalling azureml-telemetry at /home/trusted-service-user/cluster-env/env/lib/python3.10/site-packages, outside environment /nfs4/pyenv-03400fbd-2c32-464e-a2a6-480866e7663a\n    Can't uninstall 'azureml-telemetry'. No files were found to uninstall.\n\u001b[31mERROR: pip's dependency resolver does not currently take into account all the packages that are installed. This behaviour is the source of the following dependency conflicts.\nazureml-opendatasets 1.47.0 requires azureml-core~=1.47.0, but you have azureml-core 1.57.0 which is incompatible.\nazureml-opendatasets 1.47.0 requires azureml-telemetry~=1.47.0, but you have azureml-telemetry 1.57.0 which is incompatible.\nazureml-mlflow 1.47.0 requires azure-storage-blob<=12.13.0,>=12.5.0, but you have azure-storage-blob 12.14.1 which is incompatible.\nazure-identity 1.7.0 requires msal-extensions~=0.3.0, but you have msal-extensions 1.0.0 which is incompatible.\u001b[0m\u001b[31m\n\u001b[0mSuccessfully installed azure-mgmt-network-26.0.0 azureml-core-1.57.0 azureml-telemetry-1.57.0 azureml-widgets-1.57.0 isodate-0.6.1 urllib3-1.26.19\n\u001b[33mWARNING: You are using pip version 22.0.4; however, version 24.2 is available.\nYou should consider upgrading via the '/nfs4/pyenv-03400fbd-2c32-464e-a2a6-480866e7663a/bin/python -m pip install --upgrade pip' command.\u001b[0m\u001b[33m\n\u001b[0mNote: you may need to restart the kernel to use updated packages.\nCollecting azureml-sdk[notebooks]\n  Downloading azureml_sdk-1.57.0-py3-none-any.whl (2.7 kB)\nCollecting azureml-pipeline~=1.57.0\n  Downloading azureml_pipeline-1.57.0-py3-none-any.whl (2.4 kB)\nCollecting azureml-train-core~=1.57.0\n  Downloading azureml_train_core-1.57.0-py3-none-any.whl (8.6 MB)\n\u001b[2K     \u001b[90m━━━━━━━━━━━━━━━━━━━━━━━━━━━━━━━━━━━━━━━━\u001b[0m \u001b[32m8.6/8.6 MB\u001b[0m \u001b[31m101.0 MB/s\u001b[0m eta \u001b[36m0:00:00\u001b[0m00:01\u001b[0m00:01\u001b[0m\n\u001b[?25hRequirement already satisfied: azureml-core~=1.57.0 in /nfs4/pyenv-03400fbd-2c32-464e-a2a6-480866e7663a/lib/python3.10/site-packages (from azureml-sdk[notebooks]) (1.57.0)\nCollecting azureml-train-automl-client~=1.57.0\n  Downloading azureml_train_automl_client-1.57.0-py3-none-any.whl (137 kB)\n\u001b[2K     \u001b[90m━━━━━━━━━━━━━━━━━━━━━━━━━━━━━━━━━━━━━━\u001b[0m \u001b[32m137.6/137.6 KB\u001b[0m \u001b[31m41.1 MB/s\u001b[0m eta \u001b[36m0:00:00\u001b[0m\n\u001b[?25hCollecting azureml-dataset-runtime[fuse]~=1.57.0\n  Downloading azureml_dataset_runtime-1.57.0-py3-none-any.whl (2.2 kB)\nCollecting azureml-contrib-notebook~=1.57.0\n  Downloading azureml_contrib_notebook-1.57.0-py3-none-any.whl (28 kB)\nRequirement already satisfied: azureml-widgets~=1.57.0 in /nfs4/pyenv-03400fbd-2c32-464e-a2a6-480866e7663a/lib/python3.10/site-packages (from azureml-sdk[notebooks]) (1.57.0)\nCollecting papermill<3\n  Downloading papermill-2.6.0-py3-none-any.whl (38 kB)\nRequirement already satisfied: jupyter-client<8 in /home/trusted-service-user/cluster-env/env/lib/python3.10/site-packages (from azureml-contrib-notebook~=1.57.0->azureml-sdk[notebooks]) (7.4.4)\nCollecting azureml-pipeline-core~=1.57.0\n  Downloading azureml_pipeline_core-1.57.0-py3-none-any.whl (313 kB)\n\u001b[2K     \u001b[90m━━━━━━━━━━━━━━━━━━━━━━━━━━━━━━━━━━━━━━\u001b[0m \u001b[32m313.7/313.7 KB\u001b[0m \u001b[31m69.5 MB/s\u001b[0m eta \u001b[36m0:00:00\u001b[0m\n\u001b[?25hRequirement already satisfied: nbconvert<8 in /home/trusted-service-user/cluster-env/env/lib/python3.10/site-packages (from azureml-contrib-notebook~=1.57.0->azureml-sdk[notebooks]) (7.2.3)\nRequirement already satisfied: ipykernel in /home/trusted-service-user/cluster-env/env/lib/python3.10/site-packages (from azureml-contrib-notebook~=1.57.0->azureml-sdk[notebooks]) (6.17.0)\nRequirement already satisfied: ipython in /home/trusted-service-user/cluster-env/env/lib/python3.10/site-packages (from azureml-contrib-notebook~=1.57.0->azureml-sdk[notebooks]) (8.6.0)\nRequirement already satisfied: azure-mgmt-storage<=22.0.0,>=16.0.0 in /home/trusted-service-user/cluster-env/env/lib/python3.10/site-packages (from azureml-core~=1.57.0->azureml-sdk[notebooks]) (20.1.0)\nRequirement already satisfied: pytz in /home/trusted-service-user/cluster-env/env/lib/python3.10/site-packages (from azureml-core~=1.57.0->azureml-sdk[notebooks]) (2022.6)\nRequirement already satisfied: contextlib2<22.0.0 in /home/trusted-service-user/cluster-env/env/lib/python3.10/site-packages (from azureml-core~=1.57.0->azureml-sdk[notebooks]) (21.6.0)\nRequirement already satisfied: pathspec<1.0.0 in /home/trusted-service-user/cluster-env/env/lib/python3.10/site-packages (from azureml-core~=1.57.0->azureml-sdk[notebooks]) (0.10.1)\nRequirement already satisfied: ndg-httpsclient<=0.5.1 in /home/trusted-service-user/cluster-env/env/lib/python3.10/site-packages (from azureml-core~=1.57.0->azureml-sdk[notebooks]) (0.5.1)\nRequirement already satisfied: msal<2.0.0,>=1.15.0 in /home/trusted-service-user/cluster-env/env/lib/python3.10/site-packages (from azureml-core~=1.57.0->azureml-sdk[notebooks]) (1.18.0)\nRequirement already satisfied: msal-extensions<=2.0.0,>=0.3.0 in /home/trusted-service-user/cluster-env/env/lib/python3.10/site-packages (from azureml-core~=1.57.0->azureml-sdk[notebooks]) (1.0.0)\nRequirement already satisfied: python-dateutil<3.0.0,>=2.7.3 in /home/trusted-service-user/cluster-env/env/lib/python3.10/site-packages (from azureml-core~=1.57.0->azureml-sdk[notebooks]) (2.8.2)\nRequirement already satisfied: azure-mgmt-containerregistry<11,>=8.2.0 in /home/trusted-service-user/cluster-env/env/lib/python3.10/site-packages (from azureml-core~=1.57.0->azureml-sdk[notebooks]) (10.0.0)\nRequirement already satisfied: knack<0.12.0 in /home/trusted-service-user/cluster-env/env/lib/python3.10/site-packages (from azureml-core~=1.57.0->azureml-sdk[notebooks]) (0.10.0)\nRequirement already satisfied: packaging<=25.0,>=20.0 in /home/trusted-service-user/cluster-env/env/lib/python3.10/site-packages (from azureml-core~=1.57.0->azureml-sdk[notebooks]) (21.3)\nRequirement already satisfied: azure-graphrbac<1.0.0,>=0.40.0 in /home/trusted-service-user/cluster-env/env/lib/python3.10/site-packages (from azureml-core~=1.57.0->azureml-sdk[notebooks]) (0.61.1)\nRequirement already satisfied: PyJWT<3.0.0 in /home/trusted-service-user/cluster-env/env/lib/python3.10/site-packages (from azureml-core~=1.57.0->azureml-sdk[notebooks]) (2.6.0)\nRequirement already satisfied: jmespath<2.0.0 in /home/trusted-service-user/cluster-env/env/lib/python3.10/site-packages (from azureml-core~=1.57.0->azureml-sdk[notebooks]) (1.0.1)\nRequirement already satisfied: adal<=1.2.7,>=1.2.0 in /home/trusted-service-user/cluster-env/env/lib/python3.10/site-packages (from azureml-core~=1.57.0->azureml-sdk[notebooks]) (1.2.7)\nRequirement already satisfied: humanfriendly<11.0,>=4.7 in /home/trusted-service-user/cluster-env/env/lib/python3.10/site-packages (from azureml-core~=1.57.0->azureml-sdk[notebooks]) (10.0)\nRequirement already satisfied: azure-core<2.0.0 in /home/trusted-service-user/cluster-env/env/lib/python3.10/site-packages (from azureml-core~=1.57.0->azureml-sdk[notebooks]) (1.26.1)\nRequirement already satisfied: argcomplete<4 in /home/trusted-service-user/cluster-env/env/lib/python3.10/site-packages (from azureml-core~=1.57.0->azureml-sdk[notebooks]) (2.0.0)\nRequirement already satisfied: backports.tempfile in /home/trusted-service-user/cluster-env/env/lib/python3.10/site-packages (from azureml-core~=1.57.0->azureml-sdk[notebooks]) (1.0)\nRequirement already satisfied: requests[socks]<3.0.0,>=2.19.1 in /home/trusted-service-user/cluster-env/env/lib/python3.10/site-packages (from azureml-core~=1.57.0->azureml-sdk[notebooks]) (2.28.1)\nRequirement already satisfied: msrest<=0.7.1,>=0.5.1 in /home/trusted-service-user/cluster-env/env/lib/python3.10/site-packages (from azureml-core~=1.57.0->azureml-sdk[notebooks]) (0.7.1)\nRequirement already satisfied: msrestazure<=0.7,>=0.4.33 in /home/trusted-service-user/cluster-env/env/lib/python3.10/site-packages (from azureml-core~=1.57.0->azureml-sdk[notebooks]) (0.6.4)\nRequirement already satisfied: paramiko<4.0.0,>=2.0.8 in /home/trusted-service-user/cluster-env/env/lib/python3.10/site-packages (from azureml-core~=1.57.0->azureml-sdk[notebooks]) (2.12.0)\nRequirement already satisfied: azure-mgmt-keyvault<11.0.0,>=0.40.0 in /home/trusted-service-user/cluster-env/env/lib/python3.10/site-packages (from azureml-core~=1.57.0->azureml-sdk[notebooks]) (10.1.0)\nRequirement already satisfied: azure-mgmt-authorization<5,>=0.40.0 in /home/trusted-service-user/cluster-env/env/lib/python3.10/site-packages (from azureml-core~=1.57.0->azureml-sdk[notebooks]) (2.0.0)\nRequirement already satisfied: pyopenssl<25.0.0 in /home/trusted-service-user/cluster-env/env/lib/python3.10/site-packages (from azureml-core~=1.57.0->azureml-sdk[notebooks]) (22.1.0)\nRequirement already satisfied: pkginfo in /home/trusted-service-user/cluster-env/env/lib/python3.10/site-packages (from azureml-core~=1.57.0->azureml-sdk[notebooks]) (1.8.3)\nRequirement already satisfied: jsonpickle<4.0.0 in /home/trusted-service-user/cluster-env/env/lib/python3.10/site-packages (from azureml-core~=1.57.0->azureml-sdk[notebooks]) (2.2.0)\nRequirement already satisfied: SecretStorage<4.0.0 in /home/trusted-service-user/cluster-env/env/lib/python3.10/site-packages (from azureml-core~=1.57.0->azureml-sdk[notebooks]) (3.3.3)\nRequirement already satisfied: urllib3<3.0.0,>1.26.17 in /nfs4/pyenv-03400fbd-2c32-464e-a2a6-480866e7663a/lib/python3.10/site-packages (from azureml-core~=1.57.0->azureml-sdk[notebooks]) (1.26.19)\nRequirement already satisfied: azure-mgmt-resource<=24.0.0,>=15.0.0 in /home/trusted-service-user/cluster-env/env/lib/python3.10/site-packages (from azureml-core~=1.57.0->azureml-sdk[notebooks]) (21.2.1)\nRequirement already satisfied: azure-mgmt-network<=26.0.0 in /nfs4/pyenv-03400fbd-2c32-464e-a2a6-480866e7663a/lib/python3.10/site-packages (from azureml-core~=1.57.0->azureml-sdk[notebooks]) (26.0.0)\nRequirement already satisfied: docker<8.0.0 in /home/trusted-service-user/cluster-env/env/lib/python3.10/site-packages (from azureml-core~=1.57.0->azureml-sdk[notebooks]) (6.0.1)\nRequirement already satisfied: azure-common<2.0.0,>=1.1.12 in /home/trusted-service-user/cluster-env/env/lib/python3.10/site-packages (from azureml-core~=1.57.0->azureml-sdk[notebooks]) (1.1.28)\nRequirement already satisfied: pyarrow>=0.17.0 in /home/trusted-service-user/cluster-env/env/lib/python3.10/site-packages (from azureml-dataset-runtime[fuse]~=1.57.0->azureml-sdk[notebooks]) (9.0.0)\nCollecting azureml-dataprep<5.2.0a,>=5.1.0a\n  Downloading azureml_dataprep-5.1.6-py3-none-any.whl (252 kB)\n\u001b[2K     \u001b[90m━━━━━━━━━━━━━━━━━━━━━━━━━━━━━━━━━━━━━━\u001b[0m \u001b[32m252.4/252.4 KB\u001b[0m \u001b[31m22.2 MB/s\u001b[0m eta \u001b[36m0:00:00\u001b[0m\n\u001b[?25hRequirement already satisfied: numpy!=1.19.3,<1.24 in /home/trusted-service-user/cluster-env/env/lib/python3.10/site-packages (from azureml-dataset-runtime[fuse]~=1.57.0->azureml-sdk[notebooks]) (1.23.4)\nRequirement already satisfied: fusepy<4.0.0,>=3.0.1 in /home/trusted-service-user/cluster-env/env/lib/python3.10/site-packages (from azureml-dataset-runtime[fuse]~=1.57.0->azureml-sdk[notebooks]) (3.0.1)\nCollecting azureml-pipeline-steps~=1.57.0\n  Downloading azureml_pipeline_steps-1.57.0-py3-none-any.whl (69 kB)\n\u001b[2K     \u001b[90m━━━━━━━━━━━━━━━━━━━━━━━━━━━━━━━━━━━━━━━━\u001b[0m \u001b[32m69.6/69.6 KB\u001b[0m \u001b[31m26.2 MB/s\u001b[0m eta \u001b[36m0:00:00\u001b[0m\n\u001b[?25hCollecting azureml-automl-core~=1.57.0\n  Downloading azureml_automl_core-1.57.0-py3-none-any.whl (249 kB)\n\u001b[2K     \u001b[90m━━━━━━━━━━━━━━━━━━━━━━━━━━━━━━━━━━━━━━\u001b[0m \u001b[32m249.6/249.6 KB\u001b[0m \u001b[31m61.9 MB/s\u001b[0m eta \u001b[36m0:00:00\u001b[0m\n\u001b[?25hRequirement already satisfied: azureml-telemetry~=1.57.0 in /nfs4/pyenv-03400fbd-2c32-464e-a2a6-480866e7663a/lib/python3.10/site-packages (from azureml-train-automl-client~=1.57.0->azureml-sdk[notebooks]) (1.57.0)\nCollecting azureml-train-restclients-hyperdrive~=1.57.0\n  Downloading azureml_train_restclients_hyperdrive-1.57.0-py3-none-any.whl (18 kB)\nRequirement already satisfied: jinja2<4.0 in /home/trusted-service-user/cluster-env/env/lib/python3.10/site-packages (from azureml-widgets~=1.57.0->azureml-sdk[notebooks]) (3.1.2)\nRequirement already satisfied: ipywidgets<8.0.0,>=7.0.0 in /home/trusted-service-user/cluster-env/env/lib/python3.10/site-packages (from azureml-widgets~=1.57.0->azureml-sdk[notebooks]) (7.7.0)\nRequirement already satisfied: azure-storage-blob>=12.6.0 in /home/trusted-service-user/cluster-env/env/lib/python3.10/site-packages (from azureml-widgets~=1.57.0->azureml-sdk[notebooks]) (12.14.1)\nRequirement already satisfied: cryptography>=1.1.0 in /home/trusted-service-user/cluster-env/env/lib/python3.10/site-packages (from adal<=1.2.7,>=1.2.0->azureml-core~=1.57.0->azureml-sdk[notebooks]) (38.0.3)\nRequirement already satisfied: typing-extensions>=4.0.1 in /home/trusted-service-user/cluster-env/env/lib/python3.10/site-packages (from azure-core<2.0.0->azureml-core~=1.57.0->azureml-sdk[notebooks]) (4.4.0)\nRequirement already satisfied: six>=1.11.0 in /home/trusted-service-user/cluster-env/env/lib/python3.10/site-packages (from azure-core<2.0.0->azureml-core~=1.57.0->azureml-sdk[notebooks]) (1.16.0)\nRequirement already satisfied: azure-mgmt-core<2.0.0,>=1.2.0 in /home/trusted-service-user/cluster-env/env/lib/python3.10/site-packages (from azure-mgmt-authorization<5,>=0.40.0->azureml-core~=1.57.0->azureml-sdk[notebooks]) (1.3.2)\nRequirement already satisfied: isodate>=0.6.1 in /nfs4/pyenv-03400fbd-2c32-464e-a2a6-480866e7663a/lib/python3.10/site-packages (from azure-mgmt-network<=26.0.0->azureml-core~=1.57.0->azureml-sdk[notebooks]) (0.6.1)\nRequirement already satisfied: importlib-metadata<=8.2.0 in /home/trusted-service-user/cluster-env/env/lib/python3.10/site-packages (from azureml-automl-core~=1.57.0->azureml-train-automl-client~=1.57.0->azureml-sdk[notebooks]) (5.0.0)\nCollecting importlib-resources<=6.4.0\n  Downloading importlib_resources-6.4.0-py3-none-any.whl (38 kB)\nCollecting azureml-dataprep-rslex~=2.22.2dev0\n  Downloading azureml_dataprep_rslex-2.22.3-cp310-cp310-manylinux1_x86_64.whl (24.8 MB)\n\u001b[2K     \u001b[90m━━━━━━━━━━━━━━━━━━━━━━━━━━━━━━━━━━━━━━━━\u001b[0m \u001b[32m24.8/24.8 MB\u001b[0m \u001b[31m72.3 MB/s\u001b[0m eta \u001b[36m0:00:00\u001b[0m00:01\u001b[0m00:01\u001b[0m\n\u001b[?25hRequirement already satisfied: azure-identity>=1.7.0 in /home/trusted-service-user/cluster-env/env/lib/python3.10/site-packages (from azureml-dataprep<5.2.0a,>=5.1.0a->azureml-dataset-runtime[fuse]~=1.57.0->azureml-sdk[notebooks]) (1.7.0)\nRequirement already satisfied: pyyaml<7.0.0,>=5.1.0 in /home/trusted-service-user/cluster-env/env/lib/python3.10/site-packages (from azureml-dataprep<5.2.0a,>=5.1.0a->azureml-dataset-runtime[fuse]~=1.57.0->azureml-sdk[notebooks]) (6.0)\nRequirement already satisfied: jsonschema in /home/trusted-service-user/cluster-env/env/lib/python3.10/site-packages (from azureml-dataprep<5.2.0a,>=5.1.0a->azureml-dataset-runtime[fuse]~=1.57.0->azureml-sdk[notebooks]) (4.17.0)\nCollecting azureml-dataprep-native<42.0.0,>=41.0.0\n  Downloading azureml_dataprep_native-41.0.0-cp310-cp310-manylinux1_x86_64.whl (187 kB)\n\u001b[2K     \u001b[90m━━━━━━━━━━━━━━━━━━━━━━━━━━━━━━━━━━━━━━\u001b[0m \u001b[32m187.7/187.7 KB\u001b[0m \u001b[31m45.5 MB/s\u001b[0m eta \u001b[36m0:00:00\u001b[0m\n\u001b[?25hRequirement already satisfied: cloudpickle<3.0.0,>=1.1.0 in /home/trusted-service-user/cluster-env/env/lib/python3.10/site-packages (from azureml-dataprep<5.2.0a,>=5.1.0a->azureml-dataset-runtime[fuse]~=1.57.0->azureml-sdk[notebooks]) (2.2.0)\nRequirement already satisfied: applicationinsights in /home/trusted-service-user/cluster-env/env/lib/python3.10/site-packages (from azureml-telemetry~=1.57.0->azureml-train-automl-client~=1.57.0->azureml-sdk[notebooks]) (0.11.10)\nRequirement already satisfied: websocket-client>=0.32.0 in /home/trusted-service-user/cluster-env/env/lib/python3.10/site-packages (from docker<8.0.0->azureml-core~=1.57.0->azureml-sdk[notebooks]) (1.4.2)\nRequirement already satisfied: ipython-genutils~=0.2.0 in /home/trusted-service-user/cluster-env/env/lib/python3.10/site-packages (from ipywidgets<8.0.0,>=7.0.0->azureml-widgets~=1.57.0->azureml-sdk[notebooks]) (0.2.0)\nRequirement already satisfied: traitlets>=4.3.1 in /home/trusted-service-user/cluster-env/env/lib/python3.10/site-packages (from ipywidgets<8.0.0,>=7.0.0->azureml-widgets~=1.57.0->azureml-sdk[notebooks]) (5.5.0)\nRequirement already satisfied: nbformat>=4.2.0 in /home/trusted-service-user/cluster-env/env/lib/python3.10/site-packages (from ipywidgets<8.0.0,>=7.0.0->azureml-widgets~=1.57.0->azureml-sdk[notebooks]) (5.7.0)\nRequirement already satisfied: jupyterlab-widgets>=1.0.0 in /home/trusted-service-user/cluster-env/env/lib/python3.10/site-packages (from ipywidgets<8.0.0,>=7.0.0->azureml-widgets~=1.57.0->azureml-sdk[notebooks]) (3.0.3)\nRequirement already satisfied: widgetsnbextension~=3.6.0 in /home/trusted-service-user/cluster-env/env/lib/python3.10/site-packages (from ipywidgets<8.0.0,>=7.0.0->azureml-widgets~=1.57.0->azureml-sdk[notebooks]) (3.6.1)\nRequirement already satisfied: nest-asyncio in /home/trusted-service-user/cluster-env/env/lib/python3.10/site-packages (from ipykernel->azureml-contrib-notebook~=1.57.0->azureml-sdk[notebooks]) (1.5.6)\nRequirement already satisfied: pyzmq>=17 in /home/trusted-service-user/cluster-env/env/lib/python3.10/site-packages (from ipykernel->azureml-contrib-notebook~=1.57.0->azureml-sdk[notebooks]) (24.0.1)\nRequirement already satisfied: psutil in /home/trusted-service-user/cluster-env/env/lib/python3.10/site-packages (from ipykernel->azureml-contrib-notebook~=1.57.0->azureml-sdk[notebooks]) (5.9.4)\nRequirement already satisfied: debugpy>=1.0 in /home/trusted-service-user/cluster-env/env/lib/python3.10/site-packages (from ipykernel->azureml-contrib-notebook~=1.57.0->azureml-sdk[notebooks]) (1.6.3)\nRequirement already satisfied: tornado>=6.1 in /home/trusted-service-user/cluster-env/env/lib/python3.10/site-packages (from ipykernel->azureml-contrib-notebook~=1.57.0->azureml-sdk[notebooks]) (6.2)\nRequirement already satisfied: matplotlib-inline>=0.1 in /home/trusted-service-user/cluster-env/env/lib/python3.10/site-packages (from ipykernel->azureml-contrib-notebook~=1.57.0->azureml-sdk[notebooks]) (0.1.6)\nRequirement already satisfied: pygments>=2.4.0 in /home/trusted-service-user/cluster-env/env/lib/python3.10/site-packages (from ipython->azureml-contrib-notebook~=1.57.0->azureml-sdk[notebooks]) (2.13.0)\nRequirement already satisfied: jedi>=0.16 in /home/trusted-service-user/cluster-env/env/lib/python3.10/site-packages (from ipython->azureml-contrib-notebook~=1.57.0->azureml-sdk[notebooks]) (0.18.1)\nRequirement already satisfied: prompt-toolkit<3.1.0,>3.0.1 in /home/trusted-service-user/cluster-env/env/lib/python3.10/site-packages (from ipython->azureml-contrib-notebook~=1.57.0->azureml-sdk[notebooks]) (3.0.32)\nRequirement already satisfied: stack-data in /home/trusted-service-user/cluster-env/env/lib/python3.10/site-packages (from ipython->azureml-contrib-notebook~=1.57.0->azureml-sdk[notebooks]) (0.6.0)\nRequirement already satisfied: pickleshare in /home/trusted-service-user/cluster-env/env/lib/python3.10/site-packages (from ipython->azureml-contrib-notebook~=1.57.0->azureml-sdk[notebooks]) (0.7.5)\nRequirement already satisfied: pexpect>4.3 in /home/trusted-service-user/cluster-env/env/lib/python3.10/site-packages (from ipython->azureml-contrib-notebook~=1.57.0->azureml-sdk[notebooks]) (4.8.0)\nRequirement already satisfied: decorator in /home/trusted-service-user/cluster-env/env/lib/python3.10/site-packages (from ipython->azureml-contrib-notebook~=1.57.0->azureml-sdk[notebooks]) (5.1.1)\nRequirement already satisfied: backcall in /home/trusted-service-user/cluster-env/env/lib/python3.10/site-packages (from ipython->azureml-contrib-notebook~=1.57.0->azureml-sdk[notebooks]) (0.2.0)\nRequirement already satisfied: MarkupSafe>=2.0 in /home/trusted-service-user/cluster-env/env/lib/python3.10/site-packages (from jinja2<4.0->azureml-widgets~=1.57.0->azureml-sdk[notebooks]) (2.1.1)\nRequirement already satisfied: jupyter-core>=4.9.2 in /home/trusted-service-user/cluster-env/env/lib/python3.10/site-packages (from jupyter-client<8->azureml-contrib-notebook~=1.57.0->azureml-sdk[notebooks]) (4.11.2)\nRequirement already satisfied: entrypoints in /home/trusted-service-user/cluster-env/env/lib/python3.10/site-packages (from jupyter-client<8->azureml-contrib-notebook~=1.57.0->azureml-sdk[notebooks]) (0.4)\nRequirement already satisfied: tabulate in /home/trusted-service-user/cluster-env/env/lib/python3.10/site-packages (from knack<0.12.0->azureml-core~=1.57.0->azureml-sdk[notebooks]) (0.9.0)\nRequirement already satisfied: portalocker<3,>=1.0 in /home/trusted-service-user/cluster-env/env/lib/python3.10/site-packages (from msal-extensions<=2.0.0,>=0.3.0->azureml-core~=1.57.0->azureml-sdk[notebooks]) (2.6.0)\nRequirement already satisfied: requests-oauthlib>=0.5.0 in /home/trusted-service-user/cluster-env/env/lib/python3.10/site-packages (from msrest<=0.7.1,>=0.5.1->azureml-core~=1.57.0->azureml-sdk[notebooks]) (1.3.1)\nRequirement already satisfied: certifi>=2017.4.17 in /home/trusted-service-user/cluster-env/env/lib/python3.10/site-packages (from msrest<=0.7.1,>=0.5.1->azureml-core~=1.57.0->azureml-sdk[notebooks]) (2022.9.24)\nRequirement already satisfied: nbclient>=0.5.0 in /home/trusted-service-user/cluster-env/env/lib/python3.10/site-packages (from nbconvert<8->azureml-contrib-notebook~=1.57.0->azureml-sdk[notebooks]) (0.7.0)\nRequirement already satisfied: pandocfilters>=1.4.1 in /home/trusted-service-user/cluster-env/env/lib/python3.10/site-packages (from nbconvert<8->azureml-contrib-notebook~=1.57.0->azureml-sdk[notebooks]) (1.5.0)\nRequirement already satisfied: jupyterlab-pygments in /home/trusted-service-user/cluster-env/env/lib/python3.10/site-packages (from nbconvert<8->azureml-contrib-notebook~=1.57.0->azureml-sdk[notebooks]) (0.2.2)\nRequirement already satisfied: bleach in /home/trusted-service-user/cluster-env/env/lib/python3.10/site-packages (from nbconvert<8->azureml-contrib-notebook~=1.57.0->azureml-sdk[notebooks]) (5.0.1)\nRequirement already satisfied: mistune<3,>=2.0.3 in /home/trusted-service-user/cluster-env/env/lib/python3.10/site-packages (from nbconvert<8->azureml-contrib-notebook~=1.57.0->azureml-sdk[notebooks]) (2.0.4)\nRequirement already satisfied: beautifulsoup4 in /home/trusted-service-user/cluster-env/env/lib/python3.10/site-packages (from nbconvert<8->azureml-contrib-notebook~=1.57.0->azureml-sdk[notebooks]) (4.9.3)\nRequirement already satisfied: tinycss2 in /home/trusted-service-user/cluster-env/env/lib/python3.10/site-packages (from nbconvert<8->azureml-contrib-notebook~=1.57.0->azureml-sdk[notebooks]) (1.2.1)\nRequirement already satisfied: defusedxml in /home/trusted-service-user/cluster-env/env/lib/python3.10/site-packages (from nbconvert<8->azureml-contrib-notebook~=1.57.0->azureml-sdk[notebooks]) (0.7.1)\nRequirement already satisfied: pyasn1>=0.1.1 in /home/trusted-service-user/cluster-env/env/lib/python3.10/site-packages (from ndg-httpsclient<=0.5.1->azureml-core~=1.57.0->azureml-sdk[notebooks]) (0.4.8)\nRequirement already satisfied: pyparsing!=3.0.5,>=2.0.2 in /home/trusted-service-user/cluster-env/env/lib/python3.10/site-packages (from packaging<=25.0,>=20.0->azureml-core~=1.57.0->azureml-sdk[notebooks]) (3.0.9)\nRequirement already satisfied: click in /home/trusted-service-user/cluster-env/env/lib/python3.10/site-packages (from papermill<3->azureml-contrib-notebook~=1.57.0->azureml-sdk[notebooks]) (8.1.3)\nCollecting tenacity>=5.0.2\n  Downloading tenacity-9.0.0-py3-none-any.whl (28 kB)\nRequirement already satisfied: tqdm>=4.32.2 in /home/trusted-service-user/cluster-env/env/lib/python3.10/site-packages (from papermill<3->azureml-contrib-notebook~=1.57.0->azureml-sdk[notebooks]) (4.64.1)\nCollecting ansicolors\n  Downloading ansicolors-1.1.8-py2.py3-none-any.whl (13 kB)\nRequirement already satisfied: bcrypt>=3.1.3 in /home/trusted-service-user/cluster-env/env/lib/python3.10/site-packages (from paramiko<4.0.0,>=2.0.8->azureml-core~=1.57.0->azureml-sdk[notebooks]) (4.0.1)\nRequirement already satisfied: pynacl>=1.0.1 in /home/trusted-service-user/cluster-env/env/lib/python3.10/site-packages (from paramiko<4.0.0,>=2.0.8->azureml-core~=1.57.0->azureml-sdk[notebooks]) (1.5.0)\nRequirement already satisfied: charset-normalizer<3,>=2 in /home/trusted-service-user/cluster-env/env/lib/python3.10/site-packages (from requests[socks]<3.0.0,>=2.19.1->azureml-core~=1.57.0->azureml-sdk[notebooks]) (2.1.1)\nRequirement already satisfied: idna<4,>=2.5 in /home/trusted-service-user/cluster-env/env/lib/python3.10/site-packages (from requests[socks]<3.0.0,>=2.19.1->azureml-core~=1.57.0->azureml-sdk[notebooks]) (3.4)\nRequirement already satisfied: PySocks!=1.5.7,>=1.5.6 in /home/trusted-service-user/cluster-env/env/lib/python3.10/site-packages (from requests[socks]<3.0.0,>=2.19.1->azureml-core~=1.57.0->azureml-sdk[notebooks]) (1.7.1)\nRequirement already satisfied: jeepney>=0.6 in /home/trusted-service-user/cluster-env/env/lib/python3.10/site-packages (from SecretStorage<4.0.0->azureml-core~=1.57.0->azureml-sdk[notebooks]) (0.8.0)\nRequirement already satisfied: backports.weakref in /home/trusted-service-user/cluster-env/env/lib/python3.10/site-packages (from backports.tempfile->azureml-core~=1.57.0->azureml-sdk[notebooks]) (1.0.post1)\nCollecting msal-extensions<=2.0.0,>=0.3.0\n  Downloading msal_extensions-0.3.1-py2.py3-none-any.whl (18 kB)\nRequirement already satisfied: cffi>=1.12 in /home/trusted-service-user/cluster-env/env/lib/python3.10/site-packages (from cryptography>=1.1.0->adal<=1.2.7,>=1.2.0->azureml-core~=1.57.0->azureml-sdk[notebooks]) (1.15.1)\nRequirement already satisfied: zipp>=0.5 in /home/trusted-service-user/cluster-env/env/lib/python3.10/site-packages (from importlib-metadata<=8.2.0->azureml-automl-core~=1.57.0->azureml-train-automl-client~=1.57.0->azureml-sdk[notebooks]) (3.10.0)\nRequirement already satisfied: parso<0.9.0,>=0.8.0 in /home/trusted-service-user/cluster-env/env/lib/python3.10/site-packages (from jedi>=0.16->ipython->azureml-contrib-notebook~=1.57.0->azureml-sdk[notebooks]) (0.8.3)\nRequirement already satisfied: fastjsonschema in /home/trusted-service-user/cluster-env/env/lib/python3.10/site-packages (from nbformat>=4.2.0->ipywidgets<8.0.0,>=7.0.0->azureml-widgets~=1.57.0->azureml-sdk[notebooks]) (2.16.2)\nRequirement already satisfied: pyrsistent!=0.17.0,!=0.17.1,!=0.17.2,>=0.14.0 in /home/trusted-service-user/cluster-env/env/lib/python3.10/site-packages (from jsonschema->azureml-dataprep<5.2.0a,>=5.1.0a->azureml-dataset-runtime[fuse]~=1.57.0->azureml-sdk[notebooks]) (0.19.2)\nRequirement already satisfied: attrs>=17.4.0 in /home/trusted-service-user/cluster-env/env/lib/python3.10/site-packages (from jsonschema->azureml-dataprep<5.2.0a,>=5.1.0a->azureml-dataset-runtime[fuse]~=1.57.0->azureml-sdk[notebooks]) (22.1.0)\nRequirement already satisfied: ptyprocess>=0.5 in /home/trusted-service-user/cluster-env/env/lib/python3.10/site-packages (from pexpect>4.3->ipython->azureml-contrib-notebook~=1.57.0->azureml-sdk[notebooks]) (0.7.0)\nRequirement already satisfied: wcwidth in /home/trusted-service-user/cluster-env/env/lib/python3.10/site-packages (from prompt-toolkit<3.1.0,>3.0.1->ipython->azureml-contrib-notebook~=1.57.0->azureml-sdk[notebooks]) (0.2.5)\nRequirement already satisfied: oauthlib>=3.0.0 in /home/trusted-service-user/cluster-env/env/lib/python3.10/site-packages (from requests-oauthlib>=0.5.0->msrest<=0.7.1,>=0.5.1->azureml-core~=1.57.0->azureml-sdk[notebooks]) (3.2.2)\nRequirement already satisfied: notebook>=4.4.1 in /home/trusted-service-user/cluster-env/env/lib/python3.10/site-packages (from widgetsnbextension~=3.6.0->ipywidgets<8.0.0,>=7.0.0->azureml-widgets~=1.57.0->azureml-sdk[notebooks]) (6.5.2)\nRequirement already satisfied: soupsieve>1.2 in /home/trusted-service-user/cluster-env/env/lib/python3.10/site-packages (from beautifulsoup4->nbconvert<8->azureml-contrib-notebook~=1.57.0->azureml-sdk[notebooks]) (2.3.2.post1)\nRequirement already satisfied: webencodings in /home/trusted-service-user/cluster-env/env/lib/python3.10/site-packages (from bleach->nbconvert<8->azureml-contrib-notebook~=1.57.0->azureml-sdk[notebooks]) (0.5.1)\nRequirement already satisfied: asttokens>=2.1.0 in /home/trusted-service-user/cluster-env/env/lib/python3.10/site-packages (from stack-data->ipython->azureml-contrib-notebook~=1.57.0->azureml-sdk[notebooks]) (2.1.0)\nRequirement already satisfied: pure-eval in /home/trusted-service-user/cluster-env/env/lib/python3.10/site-packages (from stack-data->ipython->azureml-contrib-notebook~=1.57.0->azureml-sdk[notebooks]) (0.2.2)\nRequirement already satisfied: executing>=1.2.0 in /home/trusted-service-user/cluster-env/env/lib/python3.10/site-packages (from stack-data->ipython->azureml-contrib-notebook~=1.57.0->azureml-sdk[notebooks]) (1.2.0)\nRequirement already satisfied: pycparser in /home/trusted-service-user/cluster-env/env/lib/python3.10/site-packages (from cffi>=1.12->cryptography>=1.1.0->adal<=1.2.7,>=1.2.0->azureml-core~=1.57.0->azureml-sdk[notebooks]) (2.21)\nRequirement already satisfied: prometheus-client in /home/trusted-service-user/cluster-env/env/lib/python3.10/site-packages (from notebook>=4.4.1->widgetsnbextension~=3.6.0->ipywidgets<8.0.0,>=7.0.0->azureml-widgets~=1.57.0->azureml-sdk[notebooks]) (0.15.0)\nRequirement already satisfied: nbclassic>=0.4.7 in /home/trusted-service-user/cluster-env/env/lib/python3.10/site-packages (from notebook>=4.4.1->widgetsnbextension~=3.6.0->ipywidgets<8.0.0,>=7.0.0->azureml-widgets~=1.57.0->azureml-sdk[notebooks]) (0.4.8)\nRequirement already satisfied: argon2-cffi in /home/trusted-service-user/cluster-env/env/lib/python3.10/site-packages (from notebook>=4.4.1->widgetsnbextension~=3.6.0->ipywidgets<8.0.0,>=7.0.0->azureml-widgets~=1.57.0->azureml-sdk[notebooks]) (21.3.0)\nRequirement already satisfied: terminado>=0.8.3 in /home/trusted-service-user/cluster-env/env/lib/python3.10/site-packages (from notebook>=4.4.1->widgetsnbextension~=3.6.0->ipywidgets<8.0.0,>=7.0.0->azureml-widgets~=1.57.0->azureml-sdk[notebooks]) (0.17.0)\nRequirement already satisfied: Send2Trash>=1.8.0 in /home/trusted-service-user/cluster-env/env/lib/python3.10/site-packages (from notebook>=4.4.1->widgetsnbextension~=3.6.0->ipywidgets<8.0.0,>=7.0.0->azureml-widgets~=1.57.0->azureml-sdk[notebooks]) (1.8.0)\nRequirement already satisfied: notebook-shim>=0.1.0 in /home/trusted-service-user/cluster-env/env/lib/python3.10/site-packages (from nbclassic>=0.4.7->notebook>=4.4.1->widgetsnbextension~=3.6.0->ipywidgets<8.0.0,>=7.0.0->azureml-widgets~=1.57.0->azureml-sdk[notebooks]) (0.2.2)\nRequirement already satisfied: jupyter-server>=1.8 in /home/trusted-service-user/cluster-env/env/lib/python3.10/site-packages (from nbclassic>=0.4.7->notebook>=4.4.1->widgetsnbextension~=3.6.0->ipywidgets<8.0.0,>=7.0.0->azureml-widgets~=1.57.0->azureml-sdk[notebooks]) (1.23.0)\nRequirement already satisfied: argon2-cffi-bindings in /home/trusted-service-user/cluster-env/env/lib/python3.10/site-packages (from argon2-cffi->notebook>=4.4.1->widgetsnbextension~=3.6.0->ipywidgets<8.0.0,>=7.0.0->azureml-widgets~=1.57.0->azureml-sdk[notebooks]) (21.2.0)\nRequirement already satisfied: anyio<4,>=3.1.0 in /home/trusted-service-user/cluster-env/env/lib/python3.10/site-packages (from jupyter-server>=1.8->nbclassic>=0.4.7->notebook>=4.4.1->widgetsnbextension~=3.6.0->ipywidgets<8.0.0,>=7.0.0->azureml-widgets~=1.57.0->azureml-sdk[notebooks]) (3.6.2)\nRequirement already satisfied: sniffio>=1.1 in /home/trusted-service-user/cluster-env/env/lib/python3.10/site-packages (from anyio<4,>=3.1.0->jupyter-server>=1.8->nbclassic>=0.4.7->notebook>=4.4.1->widgetsnbextension~=3.6.0->ipywidgets<8.0.0,>=7.0.0->azureml-widgets~=1.57.0->azureml-sdk[notebooks]) (1.3.0)\nInstalling collected packages: azureml-dataprep-rslex, azureml-dataprep-native, ansicolors, tenacity, importlib-resources, papermill, msal-extensions, azureml-train-restclients-hyperdrive, azureml-pipeline-core, azureml-dataprep, azureml-train-core, azureml-dataset-runtime, azureml-contrib-notebook, azureml-automl-core, azureml-train-automl-client, azureml-pipeline-steps, azureml-pipeline, azureml-sdk\n  Attempting uninstall: azureml-dataprep-rslex\n    Found existing installation: azureml-dataprep-rslex 2.11.4\n    Not uninstalling azureml-dataprep-rslex at /home/trusted-service-user/cluster-env/env/lib/python3.10/site-packages, outside environment /nfs4/pyenv-03400fbd-2c32-464e-a2a6-480866e7663a\n    Can't uninstall 'azureml-dataprep-rslex'. No files were found to uninstall.\n  Attempting uninstall: azureml-dataprep-native\n    Found existing installation: azureml-dataprep-native 38.0.0\n    Not uninstalling azureml-dataprep-native at /home/trusted-service-user/cluster-env/env/lib/python3.10/site-packages, outside environment /nfs4/pyenv-03400fbd-2c32-464e-a2a6-480866e7663a\n    Can't uninstall 'azureml-dataprep-native'. No files were found to uninstall.\n  Attempting uninstall: msal-extensions\n    Found existing installation: msal-extensions 1.0.0\n    Not uninstalling msal-extensions at /home/trusted-service-user/cluster-env/env/lib/python3.10/site-packages, outside environment /nfs4/pyenv-03400fbd-2c32-464e-a2a6-480866e7663a\n    Can't uninstall 'msal-extensions'. No files were found to uninstall.\n  Attempting uninstall: azureml-dataprep\n    Found existing installation: azureml-dataprep 4.5.7\n    Not uninstalling azureml-dataprep at /home/trusted-service-user/cluster-env/env/lib/python3.10/site-packages, outside environment /nfs4/pyenv-03400fbd-2c32-464e-a2a6-480866e7663a\n    Can't uninstall 'azureml-dataprep'. No files were found to uninstall.\n  Attempting uninstall: azureml-dataset-runtime\n    Found existing installation: azureml-dataset-runtime 1.47.0\n    Not uninstalling azureml-dataset-runtime at /home/trusted-service-user/cluster-env/env/lib/python3.10/site-packages, outside environment /nfs4/pyenv-03400fbd-2c32-464e-a2a6-480866e7663a\n    Can't uninstall 'azureml-dataset-runtime'. No files were found to uninstall.\n\u001b[31mERROR: pip's dependency resolver does not currently take into account all the packages that are installed. This behaviour is the source of the following dependency conflicts.\nazureml-opendatasets 1.47.0 requires azureml-core~=1.47.0, but you have azureml-core 1.57.0 which is incompatible.\nazureml-opendatasets 1.47.0 requires azureml-dataset-runtime[fuse,pandas]~=1.47.0, but you have azureml-dataset-runtime 1.57.0 which is incompatible.\nazureml-opendatasets 1.47.0 requires azureml-telemetry~=1.47.0, but you have azureml-telemetry 1.57.0 which is incompatible.\u001b[0m\u001b[31m\n\u001b[0mSuccessfully installed ansicolors-1.1.8 azureml-automl-core-1.57.0 azureml-contrib-notebook-1.57.0 azureml-dataprep-5.1.6 azureml-dataprep-native-41.0.0 azureml-dataprep-rslex-2.22.3 azureml-dataset-runtime-1.57.0 azureml-pipeline-1.57.0 azureml-pipeline-core-1.57.0 azureml-pipeline-steps-1.57.0 azureml-sdk-1.57.0 azureml-train-automl-client-1.57.0 azureml-train-core-1.57.0 azureml-train-restclients-hyperdrive-1.57.0 importlib-resources-6.4.0 msal-extensions-0.3.1 papermill-2.6.0 tenacity-9.0.0\n\u001b[33mWARNING: You are using pip version 22.0.4; however, version 24.2 is available.\nYou should consider upgrading via the '/nfs4/pyenv-03400fbd-2c32-464e-a2a6-480866e7663a/bin/python -m pip install --upgrade pip' command.\u001b[0m\u001b[33m\n\u001b[0mNote: you may need to restart the kernel to use updated packages.\n"
        },
        {
          "output_type": "execute_result",
          "execution_count": 1,
          "data": {},
          "metadata": {}
        },
        {
          "output_type": "stream",
          "name": "stdout",
          "text": "Warning: PySpark kernel has been restarted to use updated packages.\n\n"
        }
      ],
      "execution_count": 1,
      "metadata": {
        "jupyter": {
          "source_hidden": false,
          "outputs_hidden": false
        },
        "nteract": {
          "transient": {
            "deleting": false
          }
        }
      }
    },
    {
      "cell_type": "code",
      "source": [
        "from azureml.core import Workspace, Experiment\n",
        "\n",
        "# ws = Workspace.from_config()\n",
        "subscription_name = \"quick-starts-ws-266991\"\n",
        "subscription_id='61c5c3f0-6dc7-4ed9-a7f3-c704b20e3b30'\n",
        "\n",
        "ws = Workspace.get(name = subscription_name,\n",
        "subscription_id=subscription_id,\n",
        "resource_group=\"aml-quickstarts-266991\"\n",
        ")\n",
        "\n",
        "\n",
        "exp = Experiment(workspace=ws, name=\"udacity-project\")\n",
        "\n",
        "print('Workspace name: ' + ws.name, \n",
        "      'Azure region: ' + ws.location, \n",
        "      'Subscription id: ' + ws.subscription_id, \n",
        "      'Resource group: ' + ws.resource_group, sep = '\\n')\n",
        "\n",
        "\n",
        "run = exp.start_logging()"
      ],
      "outputs": [
        {
          "output_type": "display_data",
          "data": {
            "application/vnd.livy.statement-meta+json": {
              "spark_pool": "c38271bb-6ebc-4469-90f0-bf01f6a3d71c",
              "statement_id": 17,
              "statement_ids": [
                17
              ],
              "state": "finished",
              "livy_statement_state": "available",
              "spark_jobs": {
                "numbers": {
                  "SUCCEEDED": 0,
                  "RUNNING": 0,
                  "FAILED": 0,
                  "UNKNOWN": 0
                },
                "jobs": [],
                "limit": 20,
                "rule": "ALL_DESC"
              },
              "session_id": "2",
              "normalized_state": "finished",
              "queued_time": "2024-08-24T10:14:25.5561072Z",
              "session_start_time": null,
              "execution_start_time": "2024-08-24T10:16:37.1290643Z",
              "execution_finish_time": "2024-08-24T10:17:31.5633744Z",
              "parent_msg_id": "fe85c262-1bca-41f8-ac4d-69d509903d49"
            },
            "text/plain": "StatementMeta(c38271bb-6ebc-4469-90f0-bf01f6a3d71c, 2, 17, Finished, Available, Finished)"
          },
          "metadata": {}
        },
        {
          "output_type": "stream",
          "name": "stdout",
          "text": "Performing interactive authentication. Please follow the instructions on the terminal.\nTo sign in, use a web browser to open the page https://microsoft.com/devicelogin and enter the code CRK696NPQ to authenticate.\nInteractive authentication successfully completed.\nWorkspace name: quick-starts-ws-266991\nAzure region: westeurope\nSubscription id: 61c5c3f0-6dc7-4ed9-a7f3-c704b20e3b30\nResource group: aml-quickstarts-266991\n"
        }
      ],
      "execution_count": 2,
      "metadata": {
        "gather": {
          "logged": 1724494651773
        }
      }
    },
    {
      "cell_type": "code",
      "source": [
        "from azureml.core.compute import ComputeTarget, AmlCompute\n",
        "\n",
        "cluster_name = subscription_name\n",
        "\n",
        "vm_size = \"Standard_D2_V2\"\n",
        "compute_config = AmlCompute.provisioning_configuration(vm_size=vm_size, max_nodes=4)\n",
        "#Create the compute cluster\n",
        "compute_target = ComputeTarget.create(ws,cluster_name, compute_config)\n",
        "#wait for the compute ready\n",
        "compute_target.wait_for_completion(show_output=True)"
      ],
      "outputs": [
        {
          "output_type": "display_data",
          "data": {
            "application/vnd.livy.statement-meta+json": {
              "spark_pool": "c38271bb-6ebc-4469-90f0-bf01f6a3d71c",
              "statement_id": 18,
              "statement_ids": [
                18
              ],
              "state": "finished",
              "livy_statement_state": "available",
              "spark_jobs": {
                "numbers": {
                  "SUCCEEDED": 0,
                  "RUNNING": 0,
                  "FAILED": 0,
                  "UNKNOWN": 0
                },
                "jobs": [],
                "limit": 20,
                "rule": "ALL_DESC"
              },
              "session_id": "2",
              "normalized_state": "finished",
              "queued_time": "2024-08-24T10:14:52.813984Z",
              "session_start_time": null,
              "execution_start_time": "2024-08-24T10:17:31.7286927Z",
              "execution_finish_time": "2024-08-24T10:17:40.5467156Z",
              "parent_msg_id": "20157b2a-7faf-4a71-905f-ac801b2effbf"
            },
            "text/plain": "StatementMeta(c38271bb-6ebc-4469-90f0-bf01f6a3d71c, 2, 18, Finished, Available, Finished)"
          },
          "metadata": {}
        },
        {
          "output_type": "stream",
          "name": "stdout",
          "text": "InProgress.\nSucceededProvisioning operation finished, operation \"Succeeded\"\nSucceeded\nAmlCompute wait for completion finished\n\nMinimum number of nodes requested have been provisioned\n"
        }
      ],
      "execution_count": 3,
      "metadata": {
        "gather": {
          "logged": 1724494660815
        },
        "jupyter": {
          "outputs_hidden": false,
          "source_hidden": false
        },
        "nteract": {
          "transient": {
            "deleting": false
          }
        }
      }
    },
    {
      "cell_type": "code",
      "source": [
        "from azureml.widgets import RunDetails\n",
        "from azureml.train.sklearn import SKLearn\n",
        "from azureml.train.hyperdrive.run import PrimaryMetricGoal\n",
        "from azureml.train.hyperdrive.policy import BanditPolicy\n",
        "from azureml.train.hyperdrive.sampling import RandomParameterSampling\n",
        "from azureml.train.hyperdrive.runconfig import HyperDriveConfig\n",
        "from azureml.train.hyperdrive.parameter_expressions import choice, uniform\n",
        "from azureml.core import Environment, ScriptRunConfig\n",
        "import os\n",
        "\n",
        "# Specify parameter sampler\n",
        "ps = RandomParameterSampling(\n",
        "    {\"C\": uniform(0.05, 0.1),\n",
        "    \"max_iter\" : choice(16, 32, 64, 128)}\n",
        ")\n",
        "\n",
        "# Specify a Policy\n",
        "policy = BanditPolicy(slack_factor=0.2, evaluation_interval=1)\n",
        "\n",
        "if \"training\" not in os.listdir():\n",
        "    os.mkdir(\"./training\")\n",
        "\n",
        "# Setup environment for your training run\n",
        "sklearn_env = Environment.from_conda_specification(name='sklearn-env', \n",
        "file_path='Users/odl_user_266991/conda_dependencies.yml')\n",
        "\n",
        "# Create a ScriptRunConfig Object to specify the configuration details of your training job\n",
        "src = ScriptRunConfig(\n",
        "    source_directory=\".\",\n",
        "    script=\"Users/odl_user_266991/train.py\",\n",
        "    environment=sklearn_env,\n",
        "    compute_target=compute_target\n",
        ")\n",
        "\n",
        "# Create a HyperDriveConfig using the src object, hyperparameter sampler, and policy.\n",
        "hyperdrive_config = HyperDriveConfig(\n",
        "    run_config=src,\n",
        "    hyperparameter_sampling=ps,\n",
        "    policy=policy,\n",
        "    primary_metric_name=\"AUC\",\n",
        "    primary_metric_goal=PrimaryMetricGoal.MAXIMIZE,\n",
        "    max_total_runs=10,\n",
        "    max_concurrent_runs=4\n",
        ")"
      ],
      "outputs": [
        {
          "output_type": "display_data",
          "data": {
            "application/vnd.livy.statement-meta+json": {
              "spark_pool": "c38271bb-6ebc-4469-90f0-bf01f6a3d71c",
              "statement_id": 30,
              "statement_ids": [
                30
              ],
              "state": "finished",
              "livy_statement_state": "available",
              "spark_jobs": {
                "numbers": {
                  "SUCCEEDED": 0,
                  "RUNNING": 0,
                  "FAILED": 0,
                  "UNKNOWN": 0
                },
                "jobs": [],
                "limit": 20,
                "rule": "ALL_DESC"
              },
              "session_id": "2",
              "normalized_state": "finished",
              "queued_time": "2024-08-24T10:23:19.7208738Z",
              "session_start_time": null,
              "execution_start_time": "2024-08-24T10:23:19.8595071Z",
              "execution_finish_time": "2024-08-24T10:23:20.2900818Z",
              "parent_msg_id": "f5122fec-b850-4429-8578-ce0fc1127449"
            },
            "text/plain": "StatementMeta(c38271bb-6ebc-4469-90f0-bf01f6a3d71c, 2, 30, Finished, Available, Finished)"
          },
          "metadata": {}
        }
      ],
      "execution_count": 15,
      "metadata": {
        "gather": {
          "logged": 1724495000507
        },
        "jupyter": {
          "outputs_hidden": false,
          "source_hidden": false
        },
        "nteract": {
          "transient": {
            "deleting": false
          }
        }
      }
    },
    {
      "cell_type": "code",
      "source": [
        "# Submit your hyperdrive run to the experiment and show run details with the widget.\n",
        "\n",
        "experiment = Experiment(workspace=ws, name=\"my-hyperdive-experiment\")\n",
        "experiment_run = experiment.submit(hyperdrive_config)\n",
        "RunDetails(experiment_run).show()"
      ],
      "outputs": [
        {
          "output_type": "display_data",
          "data": {
            "application/vnd.livy.statement-meta+json": {
              "spark_pool": "c38271bb-6ebc-4469-90f0-bf01f6a3d71c",
              "statement_id": 31,
              "statement_ids": [
                31
              ],
              "state": "finished",
              "livy_statement_state": "available",
              "spark_jobs": {
                "numbers": {
                  "SUCCEEDED": 0,
                  "RUNNING": 0,
                  "FAILED": 0,
                  "UNKNOWN": 0
                },
                "jobs": [],
                "limit": 20,
                "rule": "ALL_DESC"
              },
              "session_id": "2",
              "normalized_state": "finished",
              "queued_time": "2024-08-24T10:23:25.6742561Z",
              "session_start_time": null,
              "execution_start_time": "2024-08-24T10:23:25.8155331Z",
              "execution_finish_time": "2024-08-24T10:23:34.5693931Z",
              "parent_msg_id": "6fb3b066-34c0-4612-966d-7e648fc25613"
            },
            "text/plain": "StatementMeta(c38271bb-6ebc-4469-90f0-bf01f6a3d71c, 2, 31, Finished, Available, Finished)"
          },
          "metadata": {}
        },
        {
          "output_type": "display_data",
          "data": {
            "text/plain": "_HyperDriveWidget(widget_settings={'childWidgetDisplay': 'popup', 'send_telemetry': False, 'log_level': 'INFO'…",
            "application/vnd.jupyter.widget-view+json": {
              "version_major": 2,
              "version_minor": 0,
              "model_id": "59a40519609a4c51879fe2b095eaffc9"
            }
          },
          "metadata": {}
        },
        {
          "output_type": "display_data",
          "data": {
            "application/aml.mini.widget.v1": "{\"loading\": true}"
          },
          "metadata": {}
        }
      ],
      "execution_count": 16,
      "metadata": {
        "gather": {
          "logged": 1724495014986
        }
      }
    },
    {
      "cell_type": "code",
      "source": [
        "all_runs = experiment.get_runs()\n",
        "for run in all_runs:\n",
        "    print(run.id, run.status)"
      ],
      "outputs": [
        {
          "output_type": "display_data",
          "data": {
            "application/vnd.livy.statement-meta+json": {
              "spark_pool": "c38271bb-6ebc-4469-90f0-bf01f6a3d71c",
              "statement_id": 26,
              "statement_ids": [
                26
              ],
              "state": "finished",
              "livy_statement_state": "available",
              "spark_jobs": {
                "numbers": {
                  "SUCCEEDED": 0,
                  "RUNNING": 0,
                  "FAILED": 0,
                  "UNKNOWN": 0
                },
                "jobs": [],
                "limit": 20,
                "rule": "ALL_DESC"
              },
              "session_id": "2",
              "normalized_state": "finished",
              "queued_time": "2024-08-24T10:22:04.0166915Z",
              "session_start_time": null,
              "execution_start_time": "2024-08-24T10:22:04.3274677Z",
              "execution_finish_time": "2024-08-24T10:22:13.1831982Z",
              "parent_msg_id": "e80342bb-71a3-4c75-bd78-496f90ecfecb"
            },
            "text/plain": "StatementMeta(c38271bb-6ebc-4469-90f0-bf01f6a3d71c, 2, 26, Finished, Available, Finished)"
          },
          "metadata": {}
        },
        {
          "output_type": "stream",
          "name": "stdout",
          "text": "HD_76f2ac5e-8e79-4a19-a6c8-1ddbadeef101 Completed\nHD_074137b6-c9ca-4b71-beb3-33f5d0ff8e6f Failed\nHD_d9f3f607-8481-4e83-97c3-1cdbe834942f Failed\nHD_e10f42c4-45b0-4890-878d-00d1f6929031 Failed\nHD_660c1059-a70a-469e-9c5f-2d933d0bea42 Failed\nHD_2ad6e0be-2990-4f2a-aa94-3d459da231ce Failed\nHD_949672cd-9f23-4671-979a-f2304dd3c493 Failed\nHD_be537ba0-9fdd-476a-a082-7e2895a7e91d Failed\nHD_dcdf175f-4775-44b5-bcf0-1dd737f554b5 Failed\nHD_aec21f4d-3011-4dfc-b739-bafdc0190e09 Failed\n"
        }
      ],
      "execution_count": 11,
      "metadata": {
        "jupyter": {
          "source_hidden": false,
          "outputs_hidden": false
        },
        "nteract": {
          "transient": {
            "deleting": false
          }
        },
        "gather": {
          "logged": 1724494933425
        }
      }
    },
    {
      "cell_type": "code",
      "source": [
        "import joblib\n",
        "# Get your best run and save the model from that run.\n",
        "\n",
        "best_run = experiment_run.get_best_run_by_primary_metric()\n",
        "# model= best_run.register_model(model_name=\"best_model\",\n",
        "# model_path=\"outputs/best_model.pkl\")"
      ],
      "outputs": [
        {
          "output_type": "display_data",
          "data": {
            "application/vnd.livy.statement-meta+json": {
              "spark_pool": "c38271bb-6ebc-4469-90f0-bf01f6a3d71c",
              "statement_id": 27,
              "statement_ids": [
                27
              ],
              "state": "finished",
              "livy_statement_state": "available",
              "spark_jobs": {
                "numbers": {
                  "SUCCEEDED": 0,
                  "RUNNING": 0,
                  "FAILED": 0,
                  "UNKNOWN": 0
                },
                "jobs": [],
                "limit": 20,
                "rule": "ALL_DESC"
              },
              "session_id": "2",
              "normalized_state": "finished",
              "queued_time": "2024-08-24T10:22:23.5551074Z",
              "session_start_time": null,
              "execution_start_time": "2024-08-24T10:22:23.6800289Z",
              "execution_finish_time": "2024-08-24T10:22:25.449824Z",
              "parent_msg_id": "cc643b5b-7467-49ba-b82f-18f34125e831"
            },
            "text/plain": "StatementMeta(c38271bb-6ebc-4469-90f0-bf01f6a3d71c, 2, 27, Finished, Available, Finished)"
          },
          "metadata": {}
        }
      ],
      "execution_count": 12,
      "metadata": {
        "gather": {
          "logged": 1724494945638
        },
        "jupyter": {
          "outputs_hidden": false,
          "source_hidden": false
        },
        "nteract": {
          "transient": {
            "deleting": false
          }
        }
      }
    },
    {
      "cell_type": "code",
      "source": [
        "print(best_run.get_metrics())"
      ],
      "outputs": [
        {
          "output_type": "display_data",
          "data": {
            "application/vnd.livy.statement-meta+json": {
              "spark_pool": "c38271bb-6ebc-4469-90f0-bf01f6a3d71c",
              "statement_id": 29,
              "statement_ids": [
                29
              ],
              "state": "finished",
              "livy_statement_state": "available",
              "spark_jobs": {
                "numbers": {
                  "SUCCEEDED": 0,
                  "RUNNING": 0,
                  "FAILED": 0,
                  "UNKNOWN": 0
                },
                "jobs": [],
                "limit": 20,
                "rule": "ALL_DESC"
              },
              "session_id": "2",
              "normalized_state": "finished",
              "queued_time": "2024-08-24T10:22:55.9229059Z",
              "session_start_time": null,
              "execution_start_time": "2024-08-24T10:22:56.0759225Z",
              "execution_finish_time": "2024-08-24T10:22:58.8884538Z",
              "parent_msg_id": "13a40b8f-10c9-422e-aaff-2d06ad0df093"
            },
            "text/plain": "StatementMeta(c38271bb-6ebc-4469-90f0-bf01f6a3d71c, 2, 29, Finished, Available, Finished)"
          },
          "metadata": {}
        },
        {
          "output_type": "stream",
          "name": "stdout",
          "text": "{'Regularization Strength:': 0.055078151873633, 'Max iterations:': 128, 'Accuracy': 0.907587253414264}\n"
        }
      ],
      "execution_count": 14,
      "metadata": {
        "jupyter": {
          "source_hidden": false,
          "outputs_hidden": false
        },
        "nteract": {
          "transient": {
            "deleting": false
          }
        },
        "gather": {
          "logged": 1724494979098
        }
      }
    },
    {
      "cell_type": "code",
      "source": [],
      "outputs": [],
      "execution_count": null,
      "metadata": {
        "jupyter": {
          "source_hidden": false,
          "outputs_hidden": false
        },
        "nteract": {
          "transient": {
            "deleting": false
          }
        }
      }
    },
    {
      "cell_type": "code",
      "source": [
        "from azureml.data.dataset_factory import TabularDatasetFactory\n",
        "\n",
        "# Create TabularDataset using TabularDatasetFactory\n",
        "# Data is available at: \n",
        "# \"https://automlsamplenotebookdata.blob.core.windows.net/automl-sample-notebook-data/bankmarketing_train.csv\"\n",
        "\n",
        "### YOUR CODE HERE ###"
      ],
      "outputs": [],
      "execution_count": null,
      "metadata": {}
    },
    {
      "cell_type": "code",
      "source": [
        "from train import clean_data\n",
        "\n",
        "# Use the clean_data function to clean your data.\n",
        "x, y = clean_data(### YOUR DATA OBJECT HERE ###)"
      ],
      "outputs": [],
      "execution_count": null,
      "metadata": {
        "gather": {
          "logged": 1598275726969
        },
        "jupyter": {
          "outputs_hidden": false,
          "source_hidden": false
        },
        "nteract": {
          "transient": {
            "deleting": false
          }
        }
      }
    },
    {
      "cell_type": "code",
      "source": [
        "from azureml.train.automl import AutoMLConfig\n",
        "\n",
        "# Set parameters for AutoMLConfig\n",
        "# NOTE: DO NOT CHANGE THE experiment_timeout_minutes PARAMETER OR YOUR INSTANCE WILL TIME OUT.\n",
        "# If you wish to run the experiment longer, you will need to run this notebook in your own\n",
        "# Azure tenant, which will incur personal costs.\n",
        "automl_config = AutoMLConfig(\n",
        "    experiment_timeout_minutes=30,\n",
        "    task=,\n",
        "    primary_metric=,\n",
        "    training_data=,\n",
        "    label_column_name=,\n",
        "    n_cross_validations=)"
      ],
      "outputs": [],
      "execution_count": null,
      "metadata": {
        "gather": {
          "logged": 1598275665403
        },
        "jupyter": {
          "outputs_hidden": false,
          "source_hidden": false
        },
        "nteract": {
          "transient": {
            "deleting": false
          }
        }
      }
    },
    {
      "cell_type": "code",
      "source": [
        "# Submit your automl run\n",
        "\n",
        "### YOUR CODE HERE ###"
      ],
      "outputs": [],
      "execution_count": null,
      "metadata": {
        "jupyter": {
          "outputs_hidden": false,
          "source_hidden": false
        },
        "nteract": {
          "transient": {
            "deleting": false
          }
        }
      }
    },
    {
      "cell_type": "code",
      "source": [
        "# Retrieve and save your best automl model.\n",
        "\n",
        "### YOUR CODE HERE ###"
      ],
      "outputs": [],
      "execution_count": null,
      "metadata": {}
    }
  ],
  "metadata": {
    "kernel_info": {
      "name": "synapse_pyspark"
    },
    "kernelspec": {
      "name": "synapse_pyspark",
      "language": "Python",
      "display_name": "Synapse PySpark"
    },
    "language_info": {
      "name": "python",
      "version": "3.8.0",
      "mimetype": "text/x-python",
      "file_extension": ".py",
      "pygments_lexer": "ipython",
      "codemirror_mode": "ipython",
      "nbconvert_exporter": "python"
    },
    "nteract": {
      "version": "nteract-front-end@1.0.0"
    },
    "microsoft": {
      "ms_spell_check": {
        "ms_spell_check_language": "en"
      },
      "host": {
        "AzureML": {
          "notebookHasBeenCompleted": true
        }
      }
    }
  },
  "nbformat": 4,
  "nbformat_minor": 2
}