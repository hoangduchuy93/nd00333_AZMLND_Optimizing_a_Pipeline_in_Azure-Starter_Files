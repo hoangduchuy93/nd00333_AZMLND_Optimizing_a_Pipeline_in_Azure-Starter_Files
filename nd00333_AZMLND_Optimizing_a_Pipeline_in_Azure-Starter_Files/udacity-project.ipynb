{
  "cells": [
    {
      "cell_type": "code",
      "source": [
        "%pip install azureml-widgets\n",
        "%pip install azureml-sdk[notebooks]"
      ],
      "outputs": [
        {
          "output_type": "display_data",
          "data": {
            "application/vnd.livy.statement-meta+json": {
              "spark_pool": "64cad391-4c78-4947-a062-a4e8125f2168",
              "statement_id": 54,
              "statement_ids": [
                49,
                50,
                51,
                52,
                53,
                54
              ],
              "state": "finished",
              "livy_statement_state": "available",
              "spark_jobs": {
                "numbers": {
                  "FAILED": 0,
                  "RUNNING": 0,
                  "UNKNOWN": 0,
                  "SUCCEEDED": 0
                },
                "jobs": [],
                "limit": 20,
                "rule": "ALL_DESC"
              },
              "session_id": "1",
              "normalized_state": "finished",
              "queued_time": "2024-08-24T04:01:37.6348504Z",
              "session_start_time": null,
              "execution_start_time": "2024-08-24T04:01:37.7601065Z",
              "execution_finish_time": "2024-08-24T04:02:04.7113107Z",
              "parent_msg_id": "3658a113-dfed-47c5-bf9e-16be69192811"
            },
            "text/plain": "StatementMeta(64cad391-4c78-4947-a062-a4e8125f2168, 1, 54, Finished, Available, Finished)"
          },
          "metadata": {}
        },
        {
          "output_type": "execute_result",
          "execution_count": 15,
          "data": {},
          "metadata": {}
        },
        {
          "output_type": "stream",
          "name": "stdout",
          "text": "Requirement already satisfied: azureml-widgets in /nfs4/pyenv-252ff5f8-a40a-4474-a3f1-8ca6060b71c5/lib/python3.10/site-packages (1.57.0)\nRequirement already satisfied: jinja2<4.0 in /home/trusted-service-user/cluster-env/env/lib/python3.10/site-packages (from azureml-widgets) (3.1.2)\nRequirement already satisfied: azureml-core~=1.57.0 in /nfs4/pyenv-252ff5f8-a40a-4474-a3f1-8ca6060b71c5/lib/python3.10/site-packages (from azureml-widgets) (1.57.0)\nRequirement already satisfied: azureml-telemetry~=1.57.0 in /nfs4/pyenv-252ff5f8-a40a-4474-a3f1-8ca6060b71c5/lib/python3.10/site-packages (from azureml-widgets) (1.57.0)\nRequirement already satisfied: azure-storage-blob>=12.6.0 in /home/trusted-service-user/cluster-env/env/lib/python3.10/site-packages (from azureml-widgets) (12.14.1)\nRequirement already satisfied: ipywidgets<8.0.0,>=7.0.0 in /home/trusted-service-user/cluster-env/env/lib/python3.10/site-packages (from azureml-widgets) (7.7.0)\nRequirement already satisfied: azure-core<2.0.0,>=1.24.2 in /home/trusted-service-user/cluster-env/env/lib/python3.10/site-packages (from azure-storage-blob>=12.6.0->azureml-widgets) (1.26.1)\nRequirement already satisfied: cryptography>=2.1.4 in /home/trusted-service-user/cluster-env/env/lib/python3.10/site-packages (from azure-storage-blob>=12.6.0->azureml-widgets) (38.0.3)\nRequirement already satisfied: msrest>=0.7.1 in /home/trusted-service-user/cluster-env/env/lib/python3.10/site-packages (from azure-storage-blob>=12.6.0->azureml-widgets) (0.7.1)\nRequirement already satisfied: azure-mgmt-authorization<5,>=0.40.0 in /home/trusted-service-user/cluster-env/env/lib/python3.10/site-packages (from azureml-core~=1.57.0->azureml-widgets) (2.0.0)\nRequirement already satisfied: pytz in /home/trusted-service-user/cluster-env/env/lib/python3.10/site-packages (from azureml-core~=1.57.0->azureml-widgets) (2022.6)\nRequirement already satisfied: ndg-httpsclient<=0.5.1 in /home/trusted-service-user/cluster-env/env/lib/python3.10/site-packages (from azureml-core~=1.57.0->azureml-widgets) (0.5.1)\nRequirement already satisfied: contextlib2<22.0.0 in /home/trusted-service-user/cluster-env/env/lib/python3.10/site-packages (from azureml-core~=1.57.0->azureml-widgets) (21.6.0)\nRequirement already satisfied: pkginfo in /home/trusted-service-user/cluster-env/env/lib/python3.10/site-packages (from azureml-core~=1.57.0->azureml-widgets) (1.8.3)\nRequirement already satisfied: azure-mgmt-storage<=22.0.0,>=16.0.0 in /home/trusted-service-user/cluster-env/env/lib/python3.10/site-packages (from azureml-core~=1.57.0->azureml-widgets) (20.1.0)\nRequirement already satisfied: PyJWT<3.0.0 in /home/trusted-service-user/cluster-env/env/lib/python3.10/site-packages (from azureml-core~=1.57.0->azureml-widgets) (2.6.0)\nRequirement already satisfied: urllib3<3.0.0,>1.26.17 in /nfs4/pyenv-252ff5f8-a40a-4474-a3f1-8ca6060b71c5/lib/python3.10/site-packages (from azureml-core~=1.57.0->azureml-widgets) (1.26.19)\nRequirement already satisfied: azure-common<2.0.0,>=1.1.12 in /home/trusted-service-user/cluster-env/env/lib/python3.10/site-packages (from azureml-core~=1.57.0->azureml-widgets) (1.1.28)\nRequirement already satisfied: docker<8.0.0 in /home/trusted-service-user/cluster-env/env/lib/python3.10/site-packages (from azureml-core~=1.57.0->azureml-widgets) (6.0.1)\nRequirement already satisfied: azure-graphrbac<1.0.0,>=0.40.0 in /home/trusted-service-user/cluster-env/env/lib/python3.10/site-packages (from azureml-core~=1.57.0->azureml-widgets) (0.61.1)\nRequirement already satisfied: azure-mgmt-network<=26.0.0 in /nfs4/pyenv-252ff5f8-a40a-4474-a3f1-8ca6060b71c5/lib/python3.10/site-packages (from azureml-core~=1.57.0->azureml-widgets) (26.0.0)\nRequirement already satisfied: packaging<=25.0,>=20.0 in /home/trusted-service-user/cluster-env/env/lib/python3.10/site-packages (from azureml-core~=1.57.0->azureml-widgets) (21.3)\nRequirement already satisfied: adal<=1.2.7,>=1.2.0 in /home/trusted-service-user/cluster-env/env/lib/python3.10/site-packages (from azureml-core~=1.57.0->azureml-widgets) (1.2.7)\nRequirement already satisfied: msrestazure<=0.7,>=0.4.33 in /home/trusted-service-user/cluster-env/env/lib/python3.10/site-packages (from azureml-core~=1.57.0->azureml-widgets) (0.6.4)\nRequirement already satisfied: pyopenssl<25.0.0 in /home/trusted-service-user/cluster-env/env/lib/python3.10/site-packages (from azureml-core~=1.57.0->azureml-widgets) (22.1.0)\nRequirement already satisfied: pathspec<1.0.0 in /home/trusted-service-user/cluster-env/env/lib/python3.10/site-packages (from azureml-core~=1.57.0->azureml-widgets) (0.10.1)\nRequirement already satisfied: azure-mgmt-containerregistry<11,>=8.2.0 in /home/trusted-service-user/cluster-env/env/lib/python3.10/site-packages (from azureml-core~=1.57.0->azureml-widgets) (10.0.0)\nRequirement already satisfied: azure-mgmt-resource<=24.0.0,>=15.0.0 in /home/trusted-service-user/cluster-env/env/lib/python3.10/site-packages (from azureml-core~=1.57.0->azureml-widgets) (21.2.1)\nRequirement already satisfied: paramiko<4.0.0,>=2.0.8 in /home/trusted-service-user/cluster-env/env/lib/python3.10/site-packages (from azureml-core~=1.57.0->azureml-widgets) (2.12.0)\nRequirement already satisfied: msal<2.0.0,>=1.15.0 in /home/trusted-service-user/cluster-env/env/lib/python3.10/site-packages (from azureml-core~=1.57.0->azureml-widgets) (1.18.0)\nRequirement already satisfied: jmespath<2.0.0 in /home/trusted-service-user/cluster-env/env/lib/python3.10/site-packages (from azureml-core~=1.57.0->azureml-widgets) (1.0.1)\nRequirement already satisfied: msal-extensions<=2.0.0,>=0.3.0 in /nfs4/pyenv-252ff5f8-a40a-4474-a3f1-8ca6060b71c5/lib/python3.10/site-packages (from azureml-core~=1.57.0->azureml-widgets) (0.3.1)\nRequirement already satisfied: azure-mgmt-keyvault<11.0.0,>=0.40.0 in /home/trusted-service-user/cluster-env/env/lib/python3.10/site-packages (from azureml-core~=1.57.0->azureml-widgets) (10.1.0)\nRequirement already satisfied: python-dateutil<3.0.0,>=2.7.3 in /home/trusted-service-user/cluster-env/env/lib/python3.10/site-packages (from azureml-core~=1.57.0->azureml-widgets) (2.8.2)\nRequirement already satisfied: knack<0.12.0 in /home/trusted-service-user/cluster-env/env/lib/python3.10/site-packages (from azureml-core~=1.57.0->azureml-widgets) (0.10.0)\nRequirement already satisfied: jsonpickle<4.0.0 in /home/trusted-service-user/cluster-env/env/lib/python3.10/site-packages (from azureml-core~=1.57.0->azureml-widgets) (2.2.0)\nRequirement already satisfied: SecretStorage<4.0.0 in /home/trusted-service-user/cluster-env/env/lib/python3.10/site-packages (from azureml-core~=1.57.0->azureml-widgets) (3.3.3)\nRequirement already satisfied: backports.tempfile in /home/trusted-service-user/cluster-env/env/lib/python3.10/site-packages (from azureml-core~=1.57.0->azureml-widgets) (1.0)\nRequirement already satisfied: requests[socks]<3.0.0,>=2.19.1 in /home/trusted-service-user/cluster-env/env/lib/python3.10/site-packages (from azureml-core~=1.57.0->azureml-widgets) (2.28.1)\nRequirement already satisfied: argcomplete<4 in /home/trusted-service-user/cluster-env/env/lib/python3.10/site-packages (from azureml-core~=1.57.0->azureml-widgets) (2.0.0)\nRequirement already satisfied: humanfriendly<11.0,>=4.7 in /home/trusted-service-user/cluster-env/env/lib/python3.10/site-packages (from azureml-core~=1.57.0->azureml-widgets) (10.0)\nRequirement already satisfied: applicationinsights in /home/trusted-service-user/cluster-env/env/lib/python3.10/site-packages (from azureml-telemetry~=1.57.0->azureml-widgets) (0.11.10)\nRequirement already satisfied: ipykernel>=4.5.1 in /home/trusted-service-user/cluster-env/env/lib/python3.10/site-packages (from ipywidgets<8.0.0,>=7.0.0->azureml-widgets) (6.17.0)\nRequirement already satisfied: ipython>=4.0.0 in /home/trusted-service-user/cluster-env/env/lib/python3.10/site-packages (from ipywidgets<8.0.0,>=7.0.0->azureml-widgets) (8.6.0)\nRequirement already satisfied: nbformat>=4.2.0 in /home/trusted-service-user/cluster-env/env/lib/python3.10/site-packages (from ipywidgets<8.0.0,>=7.0.0->azureml-widgets) (5.7.0)\nRequirement already satisfied: jupyterlab-widgets>=1.0.0 in /home/trusted-service-user/cluster-env/env/lib/python3.10/site-packages (from ipywidgets<8.0.0,>=7.0.0->azureml-widgets) (3.0.3)\nRequirement already satisfied: widgetsnbextension~=3.6.0 in /home/trusted-service-user/cluster-env/env/lib/python3.10/site-packages (from ipywidgets<8.0.0,>=7.0.0->azureml-widgets) (3.6.1)\nRequirement already satisfied: ipython-genutils~=0.2.0 in /home/trusted-service-user/cluster-env/env/lib/python3.10/site-packages (from ipywidgets<8.0.0,>=7.0.0->azureml-widgets) (0.2.0)\nRequirement already satisfied: traitlets>=4.3.1 in /home/trusted-service-user/cluster-env/env/lib/python3.10/site-packages (from ipywidgets<8.0.0,>=7.0.0->azureml-widgets) (5.5.0)\nRequirement already satisfied: MarkupSafe>=2.0 in /home/trusted-service-user/cluster-env/env/lib/python3.10/site-packages (from jinja2<4.0->azureml-widgets) (2.1.1)\nRequirement already satisfied: six>=1.11.0 in /home/trusted-service-user/cluster-env/env/lib/python3.10/site-packages (from azure-core<2.0.0,>=1.24.2->azure-storage-blob>=12.6.0->azureml-widgets) (1.16.0)\nRequirement already satisfied: typing-extensions>=4.0.1 in /home/trusted-service-user/cluster-env/env/lib/python3.10/site-packages (from azure-core<2.0.0,>=1.24.2->azure-storage-blob>=12.6.0->azureml-widgets) (4.4.0)\nRequirement already satisfied: azure-mgmt-core<2.0.0,>=1.2.0 in /home/trusted-service-user/cluster-env/env/lib/python3.10/site-packages (from azure-mgmt-authorization<5,>=0.40.0->azureml-core~=1.57.0->azureml-widgets) (1.3.2)\nRequirement already satisfied: isodate>=0.6.1 in /nfs4/pyenv-252ff5f8-a40a-4474-a3f1-8ca6060b71c5/lib/python3.10/site-packages (from azure-mgmt-network<=26.0.0->azureml-core~=1.57.0->azureml-widgets) (0.6.1)\nRequirement already satisfied: cffi>=1.12 in /home/trusted-service-user/cluster-env/env/lib/python3.10/site-packages (from cryptography>=2.1.4->azure-storage-blob>=12.6.0->azureml-widgets) (1.15.1)\nRequirement already satisfied: websocket-client>=0.32.0 in /home/trusted-service-user/cluster-env/env/lib/python3.10/site-packages (from docker<8.0.0->azureml-core~=1.57.0->azureml-widgets) (1.4.2)\nRequirement already satisfied: jupyter-client>=6.1.12 in /home/trusted-service-user/cluster-env/env/lib/python3.10/site-packages (from ipykernel>=4.5.1->ipywidgets<8.0.0,>=7.0.0->azureml-widgets) (7.4.4)\nRequirement already satisfied: nest-asyncio in /home/trusted-service-user/cluster-env/env/lib/python3.10/site-packages (from ipykernel>=4.5.1->ipywidgets<8.0.0,>=7.0.0->azureml-widgets) (1.5.6)\nRequirement already satisfied: tornado>=6.1 in /home/trusted-service-user/cluster-env/env/lib/python3.10/site-packages (from ipykernel>=4.5.1->ipywidgets<8.0.0,>=7.0.0->azureml-widgets) (6.2)\nRequirement already satisfied: psutil in /home/trusted-service-user/cluster-env/env/lib/python3.10/site-packages (from ipykernel>=4.5.1->ipywidgets<8.0.0,>=7.0.0->azureml-widgets) (5.9.4)\nRequirement already satisfied: debugpy>=1.0 in /home/trusted-service-user/cluster-env/env/lib/python3.10/site-packages (from ipykernel>=4.5.1->ipywidgets<8.0.0,>=7.0.0->azureml-widgets) (1.6.3)\nRequirement already satisfied: pyzmq>=17 in /home/trusted-service-user/cluster-env/env/lib/python3.10/site-packages (from ipykernel>=4.5.1->ipywidgets<8.0.0,>=7.0.0->azureml-widgets) (24.0.1)\nRequirement already satisfied: matplotlib-inline>=0.1 in /home/trusted-service-user/cluster-env/env/lib/python3.10/site-packages (from ipykernel>=4.5.1->ipywidgets<8.0.0,>=7.0.0->azureml-widgets) (0.1.6)\nRequirement already satisfied: jedi>=0.16 in /home/trusted-service-user/cluster-env/env/lib/python3.10/site-packages (from ipython>=4.0.0->ipywidgets<8.0.0,>=7.0.0->azureml-widgets) (0.18.1)\nRequirement already satisfied: decorator in /home/trusted-service-user/cluster-env/env/lib/python3.10/site-packages (from ipython>=4.0.0->ipywidgets<8.0.0,>=7.0.0->azureml-widgets) (5.1.1)\nRequirement already satisfied: pickleshare in /home/trusted-service-user/cluster-env/env/lib/python3.10/site-packages (from ipython>=4.0.0->ipywidgets<8.0.0,>=7.0.0->azureml-widgets) (0.7.5)\nRequirement already satisfied: pexpect>4.3 in /home/trusted-service-user/cluster-env/env/lib/python3.10/site-packages (from ipython>=4.0.0->ipywidgets<8.0.0,>=7.0.0->azureml-widgets) (4.8.0)\nRequirement already satisfied: prompt-toolkit<3.1.0,>3.0.1 in /home/trusted-service-user/cluster-env/env/lib/python3.10/site-packages (from ipython>=4.0.0->ipywidgets<8.0.0,>=7.0.0->azureml-widgets) (3.0.32)\nRequirement already satisfied: backcall in /home/trusted-service-user/cluster-env/env/lib/python3.10/site-packages (from ipython>=4.0.0->ipywidgets<8.0.0,>=7.0.0->azureml-widgets) (0.2.0)\nRequirement already satisfied: pygments>=2.4.0 in /home/trusted-service-user/cluster-env/env/lib/python3.10/site-packages (from ipython>=4.0.0->ipywidgets<8.0.0,>=7.0.0->azureml-widgets) (2.13.0)\nRequirement already satisfied: stack-data in /home/trusted-service-user/cluster-env/env/lib/python3.10/site-packages (from ipython>=4.0.0->ipywidgets<8.0.0,>=7.0.0->azureml-widgets) (0.6.0)\nRequirement already satisfied: pyyaml in /home/trusted-service-user/cluster-env/env/lib/python3.10/site-packages (from knack<0.12.0->azureml-core~=1.57.0->azureml-widgets) (6.0)\nRequirement already satisfied: tabulate in /home/trusted-service-user/cluster-env/env/lib/python3.10/site-packages (from knack<0.12.0->azureml-core~=1.57.0->azureml-widgets) (0.9.0)\nRequirement already satisfied: portalocker<3,>=1.0 in /home/trusted-service-user/cluster-env/env/lib/python3.10/site-packages (from msal-extensions<=2.0.0,>=0.3.0->azureml-core~=1.57.0->azureml-widgets) (2.6.0)\nRequirement already satisfied: requests-oauthlib>=0.5.0 in /home/trusted-service-user/cluster-env/env/lib/python3.10/site-packages (from msrest>=0.7.1->azure-storage-blob>=12.6.0->azureml-widgets) (1.3.1)\nRequirement already satisfied: certifi>=2017.4.17 in /home/trusted-service-user/cluster-env/env/lib/python3.10/site-packages (from msrest>=0.7.1->azure-storage-blob>=12.6.0->azureml-widgets) (2022.9.24)\nRequirement already satisfied: jupyter-core in /home/trusted-service-user/cluster-env/env/lib/python3.10/site-packages (from nbformat>=4.2.0->ipywidgets<8.0.0,>=7.0.0->azureml-widgets) (4.11.2)\nRequirement already satisfied: fastjsonschema in /home/trusted-service-user/cluster-env/env/lib/python3.10/site-packages (from nbformat>=4.2.0->ipywidgets<8.0.0,>=7.0.0->azureml-widgets) (2.16.2)\nRequirement already satisfied: jsonschema>=2.6 in /home/trusted-service-user/cluster-env/env/lib/python3.10/site-packages (from nbformat>=4.2.0->ipywidgets<8.0.0,>=7.0.0->azureml-widgets) (4.17.0)\nRequirement already satisfied: pyasn1>=0.1.1 in /home/trusted-service-user/cluster-env/env/lib/python3.10/site-packages (from ndg-httpsclient<=0.5.1->azureml-core~=1.57.0->azureml-widgets) (0.4.8)\nRequirement already satisfied: pyparsing!=3.0.5,>=2.0.2 in /home/trusted-service-user/cluster-env/env/lib/python3.10/site-packages (from packaging<=25.0,>=20.0->azureml-core~=1.57.0->azureml-widgets) (3.0.9)\nRequirement already satisfied: bcrypt>=3.1.3 in /home/trusted-service-user/cluster-env/env/lib/python3.10/site-packages (from paramiko<4.0.0,>=2.0.8->azureml-core~=1.57.0->azureml-widgets) (4.0.1)\nRequirement already satisfied: pynacl>=1.0.1 in /home/trusted-service-user/cluster-env/env/lib/python3.10/site-packages (from paramiko<4.0.0,>=2.0.8->azureml-core~=1.57.0->azureml-widgets) (1.5.0)\nRequirement already satisfied: charset-normalizer<3,>=2 in /home/trusted-service-user/cluster-env/env/lib/python3.10/site-packages (from requests[socks]<3.0.0,>=2.19.1->azureml-core~=1.57.0->azureml-widgets) (2.1.1)\nRequirement already satisfied: idna<4,>=2.5 in /home/trusted-service-user/cluster-env/env/lib/python3.10/site-packages (from requests[socks]<3.0.0,>=2.19.1->azureml-core~=1.57.0->azureml-widgets) (3.4)\nRequirement already satisfied: PySocks!=1.5.7,>=1.5.6 in /home/trusted-service-user/cluster-env/env/lib/python3.10/site-packages (from requests[socks]<3.0.0,>=2.19.1->azureml-core~=1.57.0->azureml-widgets) (1.7.1)\nRequirement already satisfied: jeepney>=0.6 in /home/trusted-service-user/cluster-env/env/lib/python3.10/site-packages (from SecretStorage<4.0.0->azureml-core~=1.57.0->azureml-widgets) (0.8.0)\nRequirement already satisfied: notebook>=4.4.1 in /home/trusted-service-user/cluster-env/env/lib/python3.10/site-packages (from widgetsnbextension~=3.6.0->ipywidgets<8.0.0,>=7.0.0->azureml-widgets) (6.5.2)\nRequirement already satisfied: backports.weakref in /home/trusted-service-user/cluster-env/env/lib/python3.10/site-packages (from backports.tempfile->azureml-core~=1.57.0->azureml-widgets) (1.0.post1)\nRequirement already satisfied: pycparser in /home/trusted-service-user/cluster-env/env/lib/python3.10/site-packages (from cffi>=1.12->cryptography>=2.1.4->azure-storage-blob>=12.6.0->azureml-widgets) (2.21)\nRequirement already satisfied: parso<0.9.0,>=0.8.0 in /home/trusted-service-user/cluster-env/env/lib/python3.10/site-packages (from jedi>=0.16->ipython>=4.0.0->ipywidgets<8.0.0,>=7.0.0->azureml-widgets) (0.8.3)\nRequirement already satisfied: attrs>=17.4.0 in /home/trusted-service-user/cluster-env/env/lib/python3.10/site-packages (from jsonschema>=2.6->nbformat>=4.2.0->ipywidgets<8.0.0,>=7.0.0->azureml-widgets) (22.1.0)\nRequirement already satisfied: pyrsistent!=0.17.0,!=0.17.1,!=0.17.2,>=0.14.0 in /home/trusted-service-user/cluster-env/env/lib/python3.10/site-packages (from jsonschema>=2.6->nbformat>=4.2.0->ipywidgets<8.0.0,>=7.0.0->azureml-widgets) (0.19.2)\nRequirement already satisfied: entrypoints in /home/trusted-service-user/cluster-env/env/lib/python3.10/site-packages (from jupyter-client>=6.1.12->ipykernel>=4.5.1->ipywidgets<8.0.0,>=7.0.0->azureml-widgets) (0.4)\nRequirement already satisfied: Send2Trash>=1.8.0 in /home/trusted-service-user/cluster-env/env/lib/python3.10/site-packages (from notebook>=4.4.1->widgetsnbextension~=3.6.0->ipywidgets<8.0.0,>=7.0.0->azureml-widgets) (1.8.0)\nRequirement already satisfied: nbclassic>=0.4.7 in /home/trusted-service-user/cluster-env/env/lib/python3.10/site-packages (from notebook>=4.4.1->widgetsnbextension~=3.6.0->ipywidgets<8.0.0,>=7.0.0->azureml-widgets) (0.4.8)\nRequirement already satisfied: terminado>=0.8.3 in /home/trusted-service-user/cluster-env/env/lib/python3.10/site-packages (from notebook>=4.4.1->widgetsnbextension~=3.6.0->ipywidgets<8.0.0,>=7.0.0->azureml-widgets) (0.17.0)\nRequirement already satisfied: nbconvert>=5 in /home/trusted-service-user/cluster-env/env/lib/python3.10/site-packages (from notebook>=4.4.1->widgetsnbextension~=3.6.0->ipywidgets<8.0.0,>=7.0.0->azureml-widgets) (7.2.3)\nRequirement already satisfied: argon2-cffi in /home/trusted-service-user/cluster-env/env/lib/python3.10/site-packages (from notebook>=4.4.1->widgetsnbextension~=3.6.0->ipywidgets<8.0.0,>=7.0.0->azureml-widgets) (21.3.0)\nRequirement already satisfied: prometheus-client in /home/trusted-service-user/cluster-env/env/lib/python3.10/site-packages (from notebook>=4.4.1->widgetsnbextension~=3.6.0->ipywidgets<8.0.0,>=7.0.0->azureml-widgets) (0.15.0)\nRequirement already satisfied: ptyprocess>=0.5 in /home/trusted-service-user/cluster-env/env/lib/python3.10/site-packages (from pexpect>4.3->ipython>=4.0.0->ipywidgets<8.0.0,>=7.0.0->azureml-widgets) (0.7.0)\nRequirement already satisfied: wcwidth in /home/trusted-service-user/cluster-env/env/lib/python3.10/site-packages (from prompt-toolkit<3.1.0,>3.0.1->ipython>=4.0.0->ipywidgets<8.0.0,>=7.0.0->azureml-widgets) (0.2.5)\nRequirement already satisfied: oauthlib>=3.0.0 in /home/trusted-service-user/cluster-env/env/lib/python3.10/site-packages (from requests-oauthlib>=0.5.0->msrest>=0.7.1->azure-storage-blob>=12.6.0->azureml-widgets) (3.2.2)\nRequirement already satisfied: executing>=1.2.0 in /home/trusted-service-user/cluster-env/env/lib/python3.10/site-packages (from stack-data->ipython>=4.0.0->ipywidgets<8.0.0,>=7.0.0->azureml-widgets) (1.2.0)\nRequirement already satisfied: asttokens>=2.1.0 in /home/trusted-service-user/cluster-env/env/lib/python3.10/site-packages (from stack-data->ipython>=4.0.0->ipywidgets<8.0.0,>=7.0.0->azureml-widgets) (2.1.0)\nRequirement already satisfied: pure-eval in /home/trusted-service-user/cluster-env/env/lib/python3.10/site-packages (from stack-data->ipython>=4.0.0->ipywidgets<8.0.0,>=7.0.0->azureml-widgets) (0.2.2)\nRequirement already satisfied: jupyter-server>=1.8 in /home/trusted-service-user/cluster-env/env/lib/python3.10/site-packages (from nbclassic>=0.4.7->notebook>=4.4.1->widgetsnbextension~=3.6.0->ipywidgets<8.0.0,>=7.0.0->azureml-widgets) (1.23.0)\nRequirement already satisfied: notebook-shim>=0.1.0 in /home/trusted-service-user/cluster-env/env/lib/python3.10/site-packages (from nbclassic>=0.4.7->notebook>=4.4.1->widgetsnbextension~=3.6.0->ipywidgets<8.0.0,>=7.0.0->azureml-widgets) (0.2.2)\nRequirement already satisfied: defusedxml in /home/trusted-service-user/cluster-env/env/lib/python3.10/site-packages (from nbconvert>=5->notebook>=4.4.1->widgetsnbextension~=3.6.0->ipywidgets<8.0.0,>=7.0.0->azureml-widgets) (0.7.1)\nRequirement already satisfied: jupyterlab-pygments in /home/trusted-service-user/cluster-env/env/lib/python3.10/site-packages (from nbconvert>=5->notebook>=4.4.1->widgetsnbextension~=3.6.0->ipywidgets<8.0.0,>=7.0.0->azureml-widgets) (0.2.2)\nRequirement already satisfied: mistune<3,>=2.0.3 in /home/trusted-service-user/cluster-env/env/lib/python3.10/site-packages (from nbconvert>=5->notebook>=4.4.1->widgetsnbextension~=3.6.0->ipywidgets<8.0.0,>=7.0.0->azureml-widgets) (2.0.4)\nRequirement already satisfied: pandocfilters>=1.4.1 in /home/trusted-service-user/cluster-env/env/lib/python3.10/site-packages (from nbconvert>=5->notebook>=4.4.1->widgetsnbextension~=3.6.0->ipywidgets<8.0.0,>=7.0.0->azureml-widgets) (1.5.0)\nRequirement already satisfied: tinycss2 in /home/trusted-service-user/cluster-env/env/lib/python3.10/site-packages (from nbconvert>=5->notebook>=4.4.1->widgetsnbextension~=3.6.0->ipywidgets<8.0.0,>=7.0.0->azureml-widgets) (1.2.1)\nRequirement already satisfied: nbclient>=0.5.0 in /home/trusted-service-user/cluster-env/env/lib/python3.10/site-packages (from nbconvert>=5->notebook>=4.4.1->widgetsnbextension~=3.6.0->ipywidgets<8.0.0,>=7.0.0->azureml-widgets) (0.7.0)\nRequirement already satisfied: beautifulsoup4 in /home/trusted-service-user/cluster-env/env/lib/python3.10/site-packages (from nbconvert>=5->notebook>=4.4.1->widgetsnbextension~=3.6.0->ipywidgets<8.0.0,>=7.0.0->azureml-widgets) (4.9.3)\nRequirement already satisfied: bleach in /home/trusted-service-user/cluster-env/env/lib/python3.10/site-packages (from nbconvert>=5->notebook>=4.4.1->widgetsnbextension~=3.6.0->ipywidgets<8.0.0,>=7.0.0->azureml-widgets) (5.0.1)\nRequirement already satisfied: argon2-cffi-bindings in /home/trusted-service-user/cluster-env/env/lib/python3.10/site-packages (from argon2-cffi->notebook>=4.4.1->widgetsnbextension~=3.6.0->ipywidgets<8.0.0,>=7.0.0->azureml-widgets) (21.2.0)\nRequirement already satisfied: anyio<4,>=3.1.0 in /home/trusted-service-user/cluster-env/env/lib/python3.10/site-packages (from jupyter-server>=1.8->nbclassic>=0.4.7->notebook>=4.4.1->widgetsnbextension~=3.6.0->ipywidgets<8.0.0,>=7.0.0->azureml-widgets) (3.6.2)\nRequirement already satisfied: soupsieve>1.2 in /home/trusted-service-user/cluster-env/env/lib/python3.10/site-packages (from beautifulsoup4->nbconvert>=5->notebook>=4.4.1->widgetsnbextension~=3.6.0->ipywidgets<8.0.0,>=7.0.0->azureml-widgets) (2.3.2.post1)\nRequirement already satisfied: webencodings in /home/trusted-service-user/cluster-env/env/lib/python3.10/site-packages (from bleach->nbconvert>=5->notebook>=4.4.1->widgetsnbextension~=3.6.0->ipywidgets<8.0.0,>=7.0.0->azureml-widgets) (0.5.1)\nRequirement already satisfied: sniffio>=1.1 in /home/trusted-service-user/cluster-env/env/lib/python3.10/site-packages (from anyio<4,>=3.1.0->jupyter-server>=1.8->nbclassic>=0.4.7->notebook>=4.4.1->widgetsnbextension~=3.6.0->ipywidgets<8.0.0,>=7.0.0->azureml-widgets) (1.3.0)\n\u001b[33mWARNING: You are using pip version 22.0.4; however, version 24.2 is available.\nYou should consider upgrading via the '/nfs4/pyenv-252ff5f8-a40a-4474-a3f1-8ca6060b71c5/bin/python -m pip install --upgrade pip' command.\u001b[0m\u001b[33m\n\u001b[0mNote: you may need to restart the kernel to use updated packages.\nRequirement already satisfied: azureml-sdk[notebooks] in /nfs4/pyenv-252ff5f8-a40a-4474-a3f1-8ca6060b71c5/lib/python3.10/site-packages (1.57.0)\nRequirement already satisfied: azureml-pipeline~=1.57.0 in /nfs4/pyenv-252ff5f8-a40a-4474-a3f1-8ca6060b71c5/lib/python3.10/site-packages (from azureml-sdk[notebooks]) (1.57.0)\nRequirement already satisfied: azureml-core~=1.57.0 in /nfs4/pyenv-252ff5f8-a40a-4474-a3f1-8ca6060b71c5/lib/python3.10/site-packages (from azureml-sdk[notebooks]) (1.57.0)\nRequirement already satisfied: azureml-train-automl-client~=1.57.0 in /nfs4/pyenv-252ff5f8-a40a-4474-a3f1-8ca6060b71c5/lib/python3.10/site-packages (from azureml-sdk[notebooks]) (1.57.0)\nRequirement already satisfied: azureml-train-core~=1.57.0 in /nfs4/pyenv-252ff5f8-a40a-4474-a3f1-8ca6060b71c5/lib/python3.10/site-packages (from azureml-sdk[notebooks]) (1.57.0)\nRequirement already satisfied: azureml-dataset-runtime[fuse]~=1.57.0 in /nfs4/pyenv-252ff5f8-a40a-4474-a3f1-8ca6060b71c5/lib/python3.10/site-packages (from azureml-sdk[notebooks]) (1.57.0)\nRequirement already satisfied: azureml-contrib-notebook~=1.57.0 in /nfs4/pyenv-252ff5f8-a40a-4474-a3f1-8ca6060b71c5/lib/python3.10/site-packages (from azureml-sdk[notebooks]) (1.57.0)\nRequirement already satisfied: azureml-widgets~=1.57.0 in /nfs4/pyenv-252ff5f8-a40a-4474-a3f1-8ca6060b71c5/lib/python3.10/site-packages (from azureml-sdk[notebooks]) (1.57.0)\nRequirement already satisfied: jupyter-client<8 in /home/trusted-service-user/cluster-env/env/lib/python3.10/site-packages (from azureml-contrib-notebook~=1.57.0->azureml-sdk[notebooks]) (7.4.4)\nRequirement already satisfied: ipykernel in /home/trusted-service-user/cluster-env/env/lib/python3.10/site-packages (from azureml-contrib-notebook~=1.57.0->azureml-sdk[notebooks]) (6.17.0)\nRequirement already satisfied: ipython in /home/trusted-service-user/cluster-env/env/lib/python3.10/site-packages (from azureml-contrib-notebook~=1.57.0->azureml-sdk[notebooks]) (8.6.0)\nRequirement already satisfied: papermill<3 in /nfs4/pyenv-252ff5f8-a40a-4474-a3f1-8ca6060b71c5/lib/python3.10/site-packages (from azureml-contrib-notebook~=1.57.0->azureml-sdk[notebooks]) (2.6.0)\nRequirement already satisfied: nbconvert<8 in /home/trusted-service-user/cluster-env/env/lib/python3.10/site-packages (from azureml-contrib-notebook~=1.57.0->azureml-sdk[notebooks]) (7.2.3)\nRequirement already satisfied: azureml-pipeline-core~=1.57.0 in /nfs4/pyenv-252ff5f8-a40a-4474-a3f1-8ca6060b71c5/lib/python3.10/site-packages (from azureml-contrib-notebook~=1.57.0->azureml-sdk[notebooks]) (1.57.0)\nRequirement already satisfied: SecretStorage<4.0.0 in /home/trusted-service-user/cluster-env/env/lib/python3.10/site-packages (from azureml-core~=1.57.0->azureml-sdk[notebooks]) (3.3.3)\nRequirement already satisfied: pytz in /home/trusted-service-user/cluster-env/env/lib/python3.10/site-packages (from azureml-core~=1.57.0->azureml-sdk[notebooks]) (2022.6)\nRequirement already satisfied: docker<8.0.0 in /home/trusted-service-user/cluster-env/env/lib/python3.10/site-packages (from azureml-core~=1.57.0->azureml-sdk[notebooks]) (6.0.1)\nRequirement already satisfied: pkginfo in /home/trusted-service-user/cluster-env/env/lib/python3.10/site-packages (from azureml-core~=1.57.0->azureml-sdk[notebooks]) (1.8.3)\nRequirement already satisfied: azure-mgmt-containerregistry<11,>=8.2.0 in /home/trusted-service-user/cluster-env/env/lib/python3.10/site-packages (from azureml-core~=1.57.0->azureml-sdk[notebooks]) (10.0.0)\nRequirement already satisfied: paramiko<4.0.0,>=2.0.8 in /home/trusted-service-user/cluster-env/env/lib/python3.10/site-packages (from azureml-core~=1.57.0->azureml-sdk[notebooks]) (2.12.0)\nRequirement already satisfied: azure-mgmt-storage<=22.0.0,>=16.0.0 in /home/trusted-service-user/cluster-env/env/lib/python3.10/site-packages (from azureml-core~=1.57.0->azureml-sdk[notebooks]) (20.1.0)\nRequirement already satisfied: msal-extensions<=2.0.0,>=0.3.0 in /nfs4/pyenv-252ff5f8-a40a-4474-a3f1-8ca6060b71c5/lib/python3.10/site-packages (from azureml-core~=1.57.0->azureml-sdk[notebooks]) (0.3.1)\nRequirement already satisfied: azure-common<2.0.0,>=1.1.12 in /home/trusted-service-user/cluster-env/env/lib/python3.10/site-packages (from azureml-core~=1.57.0->azureml-sdk[notebooks]) (1.1.28)\nRequirement already satisfied: azure-mgmt-keyvault<11.0.0,>=0.40.0 in /home/trusted-service-user/cluster-env/env/lib/python3.10/site-packages (from azureml-core~=1.57.0->azureml-sdk[notebooks]) (10.1.0)\nRequirement already satisfied: urllib3<3.0.0,>1.26.17 in /nfs4/pyenv-252ff5f8-a40a-4474-a3f1-8ca6060b71c5/lib/python3.10/site-packages (from azureml-core~=1.57.0->azureml-sdk[notebooks]) (1.26.19)\nRequirement already satisfied: azure-graphrbac<1.0.0,>=0.40.0 in /home/trusted-service-user/cluster-env/env/lib/python3.10/site-packages (from azureml-core~=1.57.0->azureml-sdk[notebooks]) (0.61.1)\nRequirement already satisfied: python-dateutil<3.0.0,>=2.7.3 in /home/trusted-service-user/cluster-env/env/lib/python3.10/site-packages (from azureml-core~=1.57.0->azureml-sdk[notebooks]) (2.8.2)\nRequirement already satisfied: ndg-httpsclient<=0.5.1 in /home/trusted-service-user/cluster-env/env/lib/python3.10/site-packages (from azureml-core~=1.57.0->azureml-sdk[notebooks]) (0.5.1)\nRequirement already satisfied: msrest<=0.7.1,>=0.5.1 in /home/trusted-service-user/cluster-env/env/lib/python3.10/site-packages (from azureml-core~=1.57.0->azureml-sdk[notebooks]) (0.7.1)\nRequirement already satisfied: PyJWT<3.0.0 in /home/trusted-service-user/cluster-env/env/lib/python3.10/site-packages (from azureml-core~=1.57.0->azureml-sdk[notebooks]) (2.6.0)\nRequirement already satisfied: azure-mgmt-network<=26.0.0 in /nfs4/pyenv-252ff5f8-a40a-4474-a3f1-8ca6060b71c5/lib/python3.10/site-packages (from azureml-core~=1.57.0->azureml-sdk[notebooks]) (26.0.0)\nRequirement already satisfied: msal<2.0.0,>=1.15.0 in /home/trusted-service-user/cluster-env/env/lib/python3.10/site-packages (from azureml-core~=1.57.0->azureml-sdk[notebooks]) (1.18.0)\nRequirement already satisfied: requests[socks]<3.0.0,>=2.19.1 in /home/trusted-service-user/cluster-env/env/lib/python3.10/site-packages (from azureml-core~=1.57.0->azureml-sdk[notebooks]) (2.28.1)\nRequirement already satisfied: jmespath<2.0.0 in /home/trusted-service-user/cluster-env/env/lib/python3.10/site-packages (from azureml-core~=1.57.0->azureml-sdk[notebooks]) (1.0.1)\nRequirement already satisfied: packaging<=25.0,>=20.0 in /home/trusted-service-user/cluster-env/env/lib/python3.10/site-packages (from azureml-core~=1.57.0->azureml-sdk[notebooks]) (21.3)\nRequirement already satisfied: humanfriendly<11.0,>=4.7 in /home/trusted-service-user/cluster-env/env/lib/python3.10/site-packages (from azureml-core~=1.57.0->azureml-sdk[notebooks]) (10.0)\nRequirement already satisfied: azure-core<2.0.0 in /home/trusted-service-user/cluster-env/env/lib/python3.10/site-packages (from azureml-core~=1.57.0->azureml-sdk[notebooks]) (1.26.1)\nRequirement already satisfied: backports.tempfile in /home/trusted-service-user/cluster-env/env/lib/python3.10/site-packages (from azureml-core~=1.57.0->azureml-sdk[notebooks]) (1.0)\nRequirement already satisfied: contextlib2<22.0.0 in /home/trusted-service-user/cluster-env/env/lib/python3.10/site-packages (from azureml-core~=1.57.0->azureml-sdk[notebooks]) (21.6.0)\nRequirement already satisfied: argcomplete<4 in /home/trusted-service-user/cluster-env/env/lib/python3.10/site-packages (from azureml-core~=1.57.0->azureml-sdk[notebooks]) (2.0.0)\nRequirement already satisfied: adal<=1.2.7,>=1.2.0 in /home/trusted-service-user/cluster-env/env/lib/python3.10/site-packages (from azureml-core~=1.57.0->azureml-sdk[notebooks]) (1.2.7)\nRequirement already satisfied: msrestazure<=0.7,>=0.4.33 in /home/trusted-service-user/cluster-env/env/lib/python3.10/site-packages (from azureml-core~=1.57.0->azureml-sdk[notebooks]) (0.6.4)\nRequirement already satisfied: pathspec<1.0.0 in /home/trusted-service-user/cluster-env/env/lib/python3.10/site-packages (from azureml-core~=1.57.0->azureml-sdk[notebooks]) (0.10.1)\nRequirement already satisfied: azure-mgmt-resource<=24.0.0,>=15.0.0 in /home/trusted-service-user/cluster-env/env/lib/python3.10/site-packages (from azureml-core~=1.57.0->azureml-sdk[notebooks]) (21.2.1)\nRequirement already satisfied: pyopenssl<25.0.0 in /home/trusted-service-user/cluster-env/env/lib/python3.10/site-packages (from azureml-core~=1.57.0->azureml-sdk[notebooks]) (22.1.0)\nRequirement already satisfied: azure-mgmt-authorization<5,>=0.40.0 in /home/trusted-service-user/cluster-env/env/lib/python3.10/site-packages (from azureml-core~=1.57.0->azureml-sdk[notebooks]) (2.0.0)\nRequirement already satisfied: jsonpickle<4.0.0 in /home/trusted-service-user/cluster-env/env/lib/python3.10/site-packages (from azureml-core~=1.57.0->azureml-sdk[notebooks]) (2.2.0)\nRequirement already satisfied: knack<0.12.0 in /home/trusted-service-user/cluster-env/env/lib/python3.10/site-packages (from azureml-core~=1.57.0->azureml-sdk[notebooks]) (0.10.0)\nRequirement already satisfied: azureml-dataprep<5.2.0a,>=5.1.0a in /nfs4/pyenv-252ff5f8-a40a-4474-a3f1-8ca6060b71c5/lib/python3.10/site-packages (from azureml-dataset-runtime[fuse]~=1.57.0->azureml-sdk[notebooks]) (5.1.6)\nRequirement already satisfied: numpy!=1.19.3,<1.24 in /home/trusted-service-user/cluster-env/env/lib/python3.10/site-packages (from azureml-dataset-runtime[fuse]~=1.57.0->azureml-sdk[notebooks]) (1.23.4)\nRequirement already satisfied: pyarrow>=0.17.0 in /home/trusted-service-user/cluster-env/env/lib/python3.10/site-packages (from azureml-dataset-runtime[fuse]~=1.57.0->azureml-sdk[notebooks]) (9.0.0)\nRequirement already satisfied: fusepy<4.0.0,>=3.0.1 in /home/trusted-service-user/cluster-env/env/lib/python3.10/site-packages (from azureml-dataset-runtime[fuse]~=1.57.0->azureml-sdk[notebooks]) (3.0.1)\nRequirement already satisfied: azureml-pipeline-steps~=1.57.0 in /nfs4/pyenv-252ff5f8-a40a-4474-a3f1-8ca6060b71c5/lib/python3.10/site-packages (from azureml-pipeline~=1.57.0->azureml-sdk[notebooks]) (1.57.0)\nRequirement already satisfied: azureml-telemetry~=1.57.0 in /nfs4/pyenv-252ff5f8-a40a-4474-a3f1-8ca6060b71c5/lib/python3.10/site-packages (from azureml-train-automl-client~=1.57.0->azureml-sdk[notebooks]) (1.57.0)\nRequirement already satisfied: azureml-automl-core~=1.57.0 in /nfs4/pyenv-252ff5f8-a40a-4474-a3f1-8ca6060b71c5/lib/python3.10/site-packages (from azureml-train-automl-client~=1.57.0->azureml-sdk[notebooks]) (1.57.0)\nRequirement already satisfied: azureml-train-restclients-hyperdrive~=1.57.0 in /nfs4/pyenv-252ff5f8-a40a-4474-a3f1-8ca6060b71c5/lib/python3.10/site-packages (from azureml-train-core~=1.57.0->azureml-sdk[notebooks]) (1.57.0)\nRequirement already satisfied: ipywidgets<8.0.0,>=7.0.0 in /home/trusted-service-user/cluster-env/env/lib/python3.10/site-packages (from azureml-widgets~=1.57.0->azureml-sdk[notebooks]) (7.7.0)\nRequirement already satisfied: azure-storage-blob>=12.6.0 in /home/trusted-service-user/cluster-env/env/lib/python3.10/site-packages (from azureml-widgets~=1.57.0->azureml-sdk[notebooks]) (12.14.1)\nRequirement already satisfied: jinja2<4.0 in /home/trusted-service-user/cluster-env/env/lib/python3.10/site-packages (from azureml-widgets~=1.57.0->azureml-sdk[notebooks]) (3.1.2)\nRequirement already satisfied: cryptography>=1.1.0 in /home/trusted-service-user/cluster-env/env/lib/python3.10/site-packages (from adal<=1.2.7,>=1.2.0->azureml-core~=1.57.0->azureml-sdk[notebooks]) (38.0.3)\nRequirement already satisfied: typing-extensions>=4.0.1 in /home/trusted-service-user/cluster-env/env/lib/python3.10/site-packages (from azure-core<2.0.0->azureml-core~=1.57.0->azureml-sdk[notebooks]) (4.4.0)\nRequirement already satisfied: six>=1.11.0 in /home/trusted-service-user/cluster-env/env/lib/python3.10/site-packages (from azure-core<2.0.0->azureml-core~=1.57.0->azureml-sdk[notebooks]) (1.16.0)\nRequirement already satisfied: azure-mgmt-core<2.0.0,>=1.2.0 in /home/trusted-service-user/cluster-env/env/lib/python3.10/site-packages (from azure-mgmt-authorization<5,>=0.40.0->azureml-core~=1.57.0->azureml-sdk[notebooks]) (1.3.2)\nRequirement already satisfied: isodate>=0.6.1 in /nfs4/pyenv-252ff5f8-a40a-4474-a3f1-8ca6060b71c5/lib/python3.10/site-packages (from azure-mgmt-network<=26.0.0->azureml-core~=1.57.0->azureml-sdk[notebooks]) (0.6.1)\nRequirement already satisfied: importlib-resources<=6.4.0 in /nfs4/pyenv-252ff5f8-a40a-4474-a3f1-8ca6060b71c5/lib/python3.10/site-packages (from azureml-automl-core~=1.57.0->azureml-train-automl-client~=1.57.0->azureml-sdk[notebooks]) (6.4.0)\nRequirement already satisfied: importlib-metadata<=8.2.0 in /home/trusted-service-user/cluster-env/env/lib/python3.10/site-packages (from azureml-automl-core~=1.57.0->azureml-train-automl-client~=1.57.0->azureml-sdk[notebooks]) (5.0.0)\nRequirement already satisfied: jsonschema in /home/trusted-service-user/cluster-env/env/lib/python3.10/site-packages (from azureml-dataprep<5.2.0a,>=5.1.0a->azureml-dataset-runtime[fuse]~=1.57.0->azureml-sdk[notebooks]) (4.17.0)\nRequirement already satisfied: pyyaml<7.0.0,>=5.1.0 in /home/trusted-service-user/cluster-env/env/lib/python3.10/site-packages (from azureml-dataprep<5.2.0a,>=5.1.0a->azureml-dataset-runtime[fuse]~=1.57.0->azureml-sdk[notebooks]) (6.0)\nRequirement already satisfied: cloudpickle<3.0.0,>=1.1.0 in /home/trusted-service-user/cluster-env/env/lib/python3.10/site-packages (from azureml-dataprep<5.2.0a,>=5.1.0a->azureml-dataset-runtime[fuse]~=1.57.0->azureml-sdk[notebooks]) (2.2.0)\nRequirement already satisfied: azureml-dataprep-native<42.0.0,>=41.0.0 in /nfs4/pyenv-252ff5f8-a40a-4474-a3f1-8ca6060b71c5/lib/python3.10/site-packages (from azureml-dataprep<5.2.0a,>=5.1.0a->azureml-dataset-runtime[fuse]~=1.57.0->azureml-sdk[notebooks]) (41.0.0)\nRequirement already satisfied: azureml-dataprep-rslex~=2.22.2dev0 in /nfs4/pyenv-252ff5f8-a40a-4474-a3f1-8ca6060b71c5/lib/python3.10/site-packages (from azureml-dataprep<5.2.0a,>=5.1.0a->azureml-dataset-runtime[fuse]~=1.57.0->azureml-sdk[notebooks]) (2.22.3)\nRequirement already satisfied: azure-identity>=1.7.0 in /home/trusted-service-user/cluster-env/env/lib/python3.10/site-packages (from azureml-dataprep<5.2.0a,>=5.1.0a->azureml-dataset-runtime[fuse]~=1.57.0->azureml-sdk[notebooks]) (1.7.0)\nRequirement already satisfied: applicationinsights in /home/trusted-service-user/cluster-env/env/lib/python3.10/site-packages (from azureml-telemetry~=1.57.0->azureml-train-automl-client~=1.57.0->azureml-sdk[notebooks]) (0.11.10)\nRequirement already satisfied: websocket-client>=0.32.0 in /home/trusted-service-user/cluster-env/env/lib/python3.10/site-packages (from docker<8.0.0->azureml-core~=1.57.0->azureml-sdk[notebooks]) (1.4.2)\nRequirement already satisfied: traitlets>=4.3.1 in /home/trusted-service-user/cluster-env/env/lib/python3.10/site-packages (from ipywidgets<8.0.0,>=7.0.0->azureml-widgets~=1.57.0->azureml-sdk[notebooks]) (5.5.0)\nRequirement already satisfied: jupyterlab-widgets>=1.0.0 in /home/trusted-service-user/cluster-env/env/lib/python3.10/site-packages (from ipywidgets<8.0.0,>=7.0.0->azureml-widgets~=1.57.0->azureml-sdk[notebooks]) (3.0.3)\nRequirement already satisfied: ipython-genutils~=0.2.0 in /home/trusted-service-user/cluster-env/env/lib/python3.10/site-packages (from ipywidgets<8.0.0,>=7.0.0->azureml-widgets~=1.57.0->azureml-sdk[notebooks]) (0.2.0)\nRequirement already satisfied: widgetsnbextension~=3.6.0 in /home/trusted-service-user/cluster-env/env/lib/python3.10/site-packages (from ipywidgets<8.0.0,>=7.0.0->azureml-widgets~=1.57.0->azureml-sdk[notebooks]) (3.6.1)\nRequirement already satisfied: nbformat>=4.2.0 in /home/trusted-service-user/cluster-env/env/lib/python3.10/site-packages (from ipywidgets<8.0.0,>=7.0.0->azureml-widgets~=1.57.0->azureml-sdk[notebooks]) (5.7.0)\nRequirement already satisfied: matplotlib-inline>=0.1 in /home/trusted-service-user/cluster-env/env/lib/python3.10/site-packages (from ipykernel->azureml-contrib-notebook~=1.57.0->azureml-sdk[notebooks]) (0.1.6)\nRequirement already satisfied: pyzmq>=17 in /home/trusted-service-user/cluster-env/env/lib/python3.10/site-packages (from ipykernel->azureml-contrib-notebook~=1.57.0->azureml-sdk[notebooks]) (24.0.1)\nRequirement already satisfied: nest-asyncio in /home/trusted-service-user/cluster-env/env/lib/python3.10/site-packages (from ipykernel->azureml-contrib-notebook~=1.57.0->azureml-sdk[notebooks]) (1.5.6)\nRequirement already satisfied: debugpy>=1.0 in /home/trusted-service-user/cluster-env/env/lib/python3.10/site-packages (from ipykernel->azureml-contrib-notebook~=1.57.0->azureml-sdk[notebooks]) (1.6.3)\nRequirement already satisfied: tornado>=6.1 in /home/trusted-service-user/cluster-env/env/lib/python3.10/site-packages (from ipykernel->azureml-contrib-notebook~=1.57.0->azureml-sdk[notebooks]) (6.2)\nRequirement already satisfied: psutil in /home/trusted-service-user/cluster-env/env/lib/python3.10/site-packages (from ipykernel->azureml-contrib-notebook~=1.57.0->azureml-sdk[notebooks]) (5.9.4)\nRequirement already satisfied: jedi>=0.16 in /home/trusted-service-user/cluster-env/env/lib/python3.10/site-packages (from ipython->azureml-contrib-notebook~=1.57.0->azureml-sdk[notebooks]) (0.18.1)\nRequirement already satisfied: pexpect>4.3 in /home/trusted-service-user/cluster-env/env/lib/python3.10/site-packages (from ipython->azureml-contrib-notebook~=1.57.0->azureml-sdk[notebooks]) (4.8.0)\nRequirement already satisfied: pickleshare in /home/trusted-service-user/cluster-env/env/lib/python3.10/site-packages (from ipython->azureml-contrib-notebook~=1.57.0->azureml-sdk[notebooks]) (0.7.5)\nRequirement already satisfied: decorator in /home/trusted-service-user/cluster-env/env/lib/python3.10/site-packages (from ipython->azureml-contrib-notebook~=1.57.0->azureml-sdk[notebooks]) (5.1.1)\nRequirement already satisfied: prompt-toolkit<3.1.0,>3.0.1 in /home/trusted-service-user/cluster-env/env/lib/python3.10/site-packages (from ipython->azureml-contrib-notebook~=1.57.0->azureml-sdk[notebooks]) (3.0.32)\nRequirement already satisfied: pygments>=2.4.0 in /home/trusted-service-user/cluster-env/env/lib/python3.10/site-packages (from ipython->azureml-contrib-notebook~=1.57.0->azureml-sdk[notebooks]) (2.13.0)\nRequirement already satisfied: stack-data in /home/trusted-service-user/cluster-env/env/lib/python3.10/site-packages (from ipython->azureml-contrib-notebook~=1.57.0->azureml-sdk[notebooks]) (0.6.0)\nRequirement already satisfied: backcall in /home/trusted-service-user/cluster-env/env/lib/python3.10/site-packages (from ipython->azureml-contrib-notebook~=1.57.0->azureml-sdk[notebooks]) (0.2.0)\nRequirement already satisfied: MarkupSafe>=2.0 in /home/trusted-service-user/cluster-env/env/lib/python3.10/site-packages (from jinja2<4.0->azureml-widgets~=1.57.0->azureml-sdk[notebooks]) (2.1.1)\nRequirement already satisfied: entrypoints in /home/trusted-service-user/cluster-env/env/lib/python3.10/site-packages (from jupyter-client<8->azureml-contrib-notebook~=1.57.0->azureml-sdk[notebooks]) (0.4)\nRequirement already satisfied: jupyter-core>=4.9.2 in /home/trusted-service-user/cluster-env/env/lib/python3.10/site-packages (from jupyter-client<8->azureml-contrib-notebook~=1.57.0->azureml-sdk[notebooks]) (4.11.2)\nRequirement already satisfied: tabulate in /home/trusted-service-user/cluster-env/env/lib/python3.10/site-packages (from knack<0.12.0->azureml-core~=1.57.0->azureml-sdk[notebooks]) (0.9.0)\nRequirement already satisfied: portalocker<3,>=1.0 in /home/trusted-service-user/cluster-env/env/lib/python3.10/site-packages (from msal-extensions<=2.0.0,>=0.3.0->azureml-core~=1.57.0->azureml-sdk[notebooks]) (2.6.0)\nRequirement already satisfied: certifi>=2017.4.17 in /home/trusted-service-user/cluster-env/env/lib/python3.10/site-packages (from msrest<=0.7.1,>=0.5.1->azureml-core~=1.57.0->azureml-sdk[notebooks]) (2022.9.24)\nRequirement already satisfied: requests-oauthlib>=0.5.0 in /home/trusted-service-user/cluster-env/env/lib/python3.10/site-packages (from msrest<=0.7.1,>=0.5.1->azureml-core~=1.57.0->azureml-sdk[notebooks]) (1.3.1)\nRequirement already satisfied: pandocfilters>=1.4.1 in /home/trusted-service-user/cluster-env/env/lib/python3.10/site-packages (from nbconvert<8->azureml-contrib-notebook~=1.57.0->azureml-sdk[notebooks]) (1.5.0)\nRequirement already satisfied: tinycss2 in /home/trusted-service-user/cluster-env/env/lib/python3.10/site-packages (from nbconvert<8->azureml-contrib-notebook~=1.57.0->azureml-sdk[notebooks]) (1.2.1)\nRequirement already satisfied: jupyterlab-pygments in /home/trusted-service-user/cluster-env/env/lib/python3.10/site-packages (from nbconvert<8->azureml-contrib-notebook~=1.57.0->azureml-sdk[notebooks]) (0.2.2)\nRequirement already satisfied: nbclient>=0.5.0 in /home/trusted-service-user/cluster-env/env/lib/python3.10/site-packages (from nbconvert<8->azureml-contrib-notebook~=1.57.0->azureml-sdk[notebooks]) (0.7.0)\nRequirement already satisfied: mistune<3,>=2.0.3 in /home/trusted-service-user/cluster-env/env/lib/python3.10/site-packages (from nbconvert<8->azureml-contrib-notebook~=1.57.0->azureml-sdk[notebooks]) (2.0.4)\nRequirement already satisfied: defusedxml in /home/trusted-service-user/cluster-env/env/lib/python3.10/site-packages (from nbconvert<8->azureml-contrib-notebook~=1.57.0->azureml-sdk[notebooks]) (0.7.1)\nRequirement already satisfied: beautifulsoup4 in /home/trusted-service-user/cluster-env/env/lib/python3.10/site-packages (from nbconvert<8->azureml-contrib-notebook~=1.57.0->azureml-sdk[notebooks]) (4.9.3)\nRequirement already satisfied: bleach in /home/trusted-service-user/cluster-env/env/lib/python3.10/site-packages (from nbconvert<8->azureml-contrib-notebook~=1.57.0->azureml-sdk[notebooks]) (5.0.1)\nRequirement already satisfied: pyasn1>=0.1.1 in /home/trusted-service-user/cluster-env/env/lib/python3.10/site-packages (from ndg-httpsclient<=0.5.1->azureml-core~=1.57.0->azureml-sdk[notebooks]) (0.4.8)\nRequirement already satisfied: pyparsing!=3.0.5,>=2.0.2 in /home/trusted-service-user/cluster-env/env/lib/python3.10/site-packages (from packaging<=25.0,>=20.0->azureml-core~=1.57.0->azureml-sdk[notebooks]) (3.0.9)\nRequirement already satisfied: tqdm>=4.32.2 in /home/trusted-service-user/cluster-env/env/lib/python3.10/site-packages (from papermill<3->azureml-contrib-notebook~=1.57.0->azureml-sdk[notebooks]) (4.64.1)\nRequirement already satisfied: click in /home/trusted-service-user/cluster-env/env/lib/python3.10/site-packages (from papermill<3->azureml-contrib-notebook~=1.57.0->azureml-sdk[notebooks]) (8.1.3)\nRequirement already satisfied: tenacity>=5.0.2 in /nfs4/pyenv-252ff5f8-a40a-4474-a3f1-8ca6060b71c5/lib/python3.10/site-packages (from papermill<3->azureml-contrib-notebook~=1.57.0->azureml-sdk[notebooks]) (9.0.0)\nRequirement already satisfied: ansicolors in /nfs4/pyenv-252ff5f8-a40a-4474-a3f1-8ca6060b71c5/lib/python3.10/site-packages (from papermill<3->azureml-contrib-notebook~=1.57.0->azureml-sdk[notebooks]) (1.1.8)\nRequirement already satisfied: pynacl>=1.0.1 in /home/trusted-service-user/cluster-env/env/lib/python3.10/site-packages (from paramiko<4.0.0,>=2.0.8->azureml-core~=1.57.0->azureml-sdk[notebooks]) (1.5.0)\nRequirement already satisfied: bcrypt>=3.1.3 in /home/trusted-service-user/cluster-env/env/lib/python3.10/site-packages (from paramiko<4.0.0,>=2.0.8->azureml-core~=1.57.0->azureml-sdk[notebooks]) (4.0.1)\nRequirement already satisfied: idna<4,>=2.5 in /home/trusted-service-user/cluster-env/env/lib/python3.10/site-packages (from requests[socks]<3.0.0,>=2.19.1->azureml-core~=1.57.0->azureml-sdk[notebooks]) (3.4)\nRequirement already satisfied: charset-normalizer<3,>=2 in /home/trusted-service-user/cluster-env/env/lib/python3.10/site-packages (from requests[socks]<3.0.0,>=2.19.1->azureml-core~=1.57.0->azureml-sdk[notebooks]) (2.1.1)\nRequirement already satisfied: PySocks!=1.5.7,>=1.5.6 in /home/trusted-service-user/cluster-env/env/lib/python3.10/site-packages (from requests[socks]<3.0.0,>=2.19.1->azureml-core~=1.57.0->azureml-sdk[notebooks]) (1.7.1)\nRequirement already satisfied: jeepney>=0.6 in /home/trusted-service-user/cluster-env/env/lib/python3.10/site-packages (from SecretStorage<4.0.0->azureml-core~=1.57.0->azureml-sdk[notebooks]) (0.8.0)\nRequirement already satisfied: backports.weakref in /home/trusted-service-user/cluster-env/env/lib/python3.10/site-packages (from backports.tempfile->azureml-core~=1.57.0->azureml-sdk[notebooks]) (1.0.post1)\nRequirement already satisfied: cffi>=1.12 in /home/trusted-service-user/cluster-env/env/lib/python3.10/site-packages (from cryptography>=1.1.0->adal<=1.2.7,>=1.2.0->azureml-core~=1.57.0->azureml-sdk[notebooks]) (1.15.1)\nRequirement already satisfied: zipp>=0.5 in /home/trusted-service-user/cluster-env/env/lib/python3.10/site-packages (from importlib-metadata<=8.2.0->azureml-automl-core~=1.57.0->azureml-train-automl-client~=1.57.0->azureml-sdk[notebooks]) (3.10.0)\nRequirement already satisfied: parso<0.9.0,>=0.8.0 in /home/trusted-service-user/cluster-env/env/lib/python3.10/site-packages (from jedi>=0.16->ipython->azureml-contrib-notebook~=1.57.0->azureml-sdk[notebooks]) (0.8.3)\nRequirement already satisfied: fastjsonschema in /home/trusted-service-user/cluster-env/env/lib/python3.10/site-packages (from nbformat>=4.2.0->ipywidgets<8.0.0,>=7.0.0->azureml-widgets~=1.57.0->azureml-sdk[notebooks]) (2.16.2)\nRequirement already satisfied: attrs>=17.4.0 in /home/trusted-service-user/cluster-env/env/lib/python3.10/site-packages (from jsonschema->azureml-dataprep<5.2.0a,>=5.1.0a->azureml-dataset-runtime[fuse]~=1.57.0->azureml-sdk[notebooks]) (22.1.0)\nRequirement already satisfied: pyrsistent!=0.17.0,!=0.17.1,!=0.17.2,>=0.14.0 in /home/trusted-service-user/cluster-env/env/lib/python3.10/site-packages (from jsonschema->azureml-dataprep<5.2.0a,>=5.1.0a->azureml-dataset-runtime[fuse]~=1.57.0->azureml-sdk[notebooks]) (0.19.2)\nRequirement already satisfied: ptyprocess>=0.5 in /home/trusted-service-user/cluster-env/env/lib/python3.10/site-packages (from pexpect>4.3->ipython->azureml-contrib-notebook~=1.57.0->azureml-sdk[notebooks]) (0.7.0)\nRequirement already satisfied: wcwidth in /home/trusted-service-user/cluster-env/env/lib/python3.10/site-packages (from prompt-toolkit<3.1.0,>3.0.1->ipython->azureml-contrib-notebook~=1.57.0->azureml-sdk[notebooks]) (0.2.5)\nRequirement already satisfied: oauthlib>=3.0.0 in /home/trusted-service-user/cluster-env/env/lib/python3.10/site-packages (from requests-oauthlib>=0.5.0->msrest<=0.7.1,>=0.5.1->azureml-core~=1.57.0->azureml-sdk[notebooks]) (3.2.2)\nRequirement already satisfied: notebook>=4.4.1 in /home/trusted-service-user/cluster-env/env/lib/python3.10/site-packages (from widgetsnbextension~=3.6.0->ipywidgets<8.0.0,>=7.0.0->azureml-widgets~=1.57.0->azureml-sdk[notebooks]) (6.5.2)\nRequirement already satisfied: soupsieve>1.2 in /home/trusted-service-user/cluster-env/env/lib/python3.10/site-packages (from beautifulsoup4->nbconvert<8->azureml-contrib-notebook~=1.57.0->azureml-sdk[notebooks]) (2.3.2.post1)\nRequirement already satisfied: webencodings in /home/trusted-service-user/cluster-env/env/lib/python3.10/site-packages (from bleach->nbconvert<8->azureml-contrib-notebook~=1.57.0->azureml-sdk[notebooks]) (0.5.1)\nRequirement already satisfied: asttokens>=2.1.0 in /home/trusted-service-user/cluster-env/env/lib/python3.10/site-packages (from stack-data->ipython->azureml-contrib-notebook~=1.57.0->azureml-sdk[notebooks]) (2.1.0)\nRequirement already satisfied: pure-eval in /home/trusted-service-user/cluster-env/env/lib/python3.10/site-packages (from stack-data->ipython->azureml-contrib-notebook~=1.57.0->azureml-sdk[notebooks]) (0.2.2)\nRequirement already satisfied: executing>=1.2.0 in /home/trusted-service-user/cluster-env/env/lib/python3.10/site-packages (from stack-data->ipython->azureml-contrib-notebook~=1.57.0->azureml-sdk[notebooks]) (1.2.0)\nRequirement already satisfied: pycparser in /home/trusted-service-user/cluster-env/env/lib/python3.10/site-packages (from cffi>=1.12->cryptography>=1.1.0->adal<=1.2.7,>=1.2.0->azureml-core~=1.57.0->azureml-sdk[notebooks]) (2.21)\nRequirement already satisfied: Send2Trash>=1.8.0 in /home/trusted-service-user/cluster-env/env/lib/python3.10/site-packages (from notebook>=4.4.1->widgetsnbextension~=3.6.0->ipywidgets<8.0.0,>=7.0.0->azureml-widgets~=1.57.0->azureml-sdk[notebooks]) (1.8.0)\nRequirement already satisfied: argon2-cffi in /home/trusted-service-user/cluster-env/env/lib/python3.10/site-packages (from notebook>=4.4.1->widgetsnbextension~=3.6.0->ipywidgets<8.0.0,>=7.0.0->azureml-widgets~=1.57.0->azureml-sdk[notebooks]) (21.3.0)\nRequirement already satisfied: nbclassic>=0.4.7 in /home/trusted-service-user/cluster-env/env/lib/python3.10/site-packages (from notebook>=4.4.1->widgetsnbextension~=3.6.0->ipywidgets<8.0.0,>=7.0.0->azureml-widgets~=1.57.0->azureml-sdk[notebooks]) (0.4.8)\nRequirement already satisfied: prometheus-client in /home/trusted-service-user/cluster-env/env/lib/python3.10/site-packages (from notebook>=4.4.1->widgetsnbextension~=3.6.0->ipywidgets<8.0.0,>=7.0.0->azureml-widgets~=1.57.0->azureml-sdk[notebooks]) (0.15.0)\nRequirement already satisfied: terminado>=0.8.3 in /home/trusted-service-user/cluster-env/env/lib/python3.10/site-packages (from notebook>=4.4.1->widgetsnbextension~=3.6.0->ipywidgets<8.0.0,>=7.0.0->azureml-widgets~=1.57.0->azureml-sdk[notebooks]) (0.17.0)\nRequirement already satisfied: jupyter-server>=1.8 in /home/trusted-service-user/cluster-env/env/lib/python3.10/site-packages (from nbclassic>=0.4.7->notebook>=4.4.1->widgetsnbextension~=3.6.0->ipywidgets<8.0.0,>=7.0.0->azureml-widgets~=1.57.0->azureml-sdk[notebooks]) (1.23.0)\nRequirement already satisfied: notebook-shim>=0.1.0 in /home/trusted-service-user/cluster-env/env/lib/python3.10/site-packages (from nbclassic>=0.4.7->notebook>=4.4.1->widgetsnbextension~=3.6.0->ipywidgets<8.0.0,>=7.0.0->azureml-widgets~=1.57.0->azureml-sdk[notebooks]) (0.2.2)\nRequirement already satisfied: argon2-cffi-bindings in /home/trusted-service-user/cluster-env/env/lib/python3.10/site-packages (from argon2-cffi->notebook>=4.4.1->widgetsnbextension~=3.6.0->ipywidgets<8.0.0,>=7.0.0->azureml-widgets~=1.57.0->azureml-sdk[notebooks]) (21.2.0)\nRequirement already satisfied: anyio<4,>=3.1.0 in /home/trusted-service-user/cluster-env/env/lib/python3.10/site-packages (from jupyter-server>=1.8->nbclassic>=0.4.7->notebook>=4.4.1->widgetsnbextension~=3.6.0->ipywidgets<8.0.0,>=7.0.0->azureml-widgets~=1.57.0->azureml-sdk[notebooks]) (3.6.2)\nRequirement already satisfied: sniffio>=1.1 in /home/trusted-service-user/cluster-env/env/lib/python3.10/site-packages (from anyio<4,>=3.1.0->jupyter-server>=1.8->nbclassic>=0.4.7->notebook>=4.4.1->widgetsnbextension~=3.6.0->ipywidgets<8.0.0,>=7.0.0->azureml-widgets~=1.57.0->azureml-sdk[notebooks]) (1.3.0)\n\u001b[33mWARNING: You are using pip version 22.0.4; however, version 24.2 is available.\nYou should consider upgrading via the '/nfs4/pyenv-252ff5f8-a40a-4474-a3f1-8ca6060b71c5/bin/python -m pip install --upgrade pip' command.\u001b[0m\u001b[33m\n\u001b[0mNote: you may need to restart the kernel to use updated packages.\n"
        },
        {
          "output_type": "execute_result",
          "execution_count": 15,
          "data": {},
          "metadata": {}
        },
        {
          "output_type": "stream",
          "name": "stdout",
          "text": "Warning: PySpark kernel has been restarted to use updated packages.\n\n"
        }
      ],
      "execution_count": 15,
      "metadata": {
        "jupyter": {
          "source_hidden": false,
          "outputs_hidden": false
        },
        "nteract": {
          "transient": {
            "deleting": false
          }
        }
      }
    },
    {
      "cell_type": "code",
      "source": [
        "from azureml.core import Workspace, Experiment\n",
        "\n",
        "# ws = Workspace.from_config()\n",
        "subscription_name = \"quick-starts-ws-266986\"\n",
        "subscription_id='61c5c3f0-6dc7-4ed9-a7f3-c704b20e3b30'\n",
        "\n",
        "ws = Workspace.get(name = subscription_name,\n",
        "subscription_id=subscription_id,\n",
        "resource_group=\"aml-quickstarts-266986\")\n",
        "\n",
        "\n",
        "exp = Experiment(workspace=ws, name=\"udacity-project\")\n",
        "\n",
        "print('Workspace name: ' + ws.name, \n",
        "      'Azure region: ' + ws.location, \n",
        "      'Subscription id: ' + ws.subscription_id, \n",
        "      'Resource group: ' + ws.resource_group, sep = '\\n')\n",
        "\n",
        "\n",
        "run = exp.start_logging()"
      ],
      "outputs": [
        {
          "output_type": "display_data",
          "data": {
            "application/vnd.livy.statement-meta+json": {
              "spark_pool": "64cad391-4c78-4947-a062-a4e8125f2168",
              "statement_id": 60,
              "statement_ids": [
                60
              ],
              "state": "finished",
              "livy_statement_state": "available",
              "spark_jobs": {
                "numbers": {
                  "FAILED": 0,
                  "RUNNING": 0,
                  "UNKNOWN": 0,
                  "SUCCEEDED": 0
                },
                "jobs": [],
                "limit": 20,
                "rule": "ALL_DESC"
              },
              "session_id": "1",
              "normalized_state": "finished",
              "queued_time": "2024-08-24T04:01:38.583542Z",
              "session_start_time": null,
              "execution_start_time": "2024-08-24T04:02:17.6402292Z",
              "execution_finish_time": "2024-08-24T04:02:26.6135283Z",
              "parent_msg_id": "c2d60f5b-fcdb-4f04-baca-60ca2db4216c"
            },
            "text/plain": "StatementMeta(64cad391-4c78-4947-a062-a4e8125f2168, 1, 60, Finished, Available, Finished)"
          },
          "metadata": {}
        },
        {
          "output_type": "stream",
          "name": "stdout",
          "text": "Workspace name: quick-starts-ws-266986\nAzure region: southcentralus\nSubscription id: 61c5c3f0-6dc7-4ed9-a7f3-c704b20e3b30\nResource group: aml-quickstarts-266986\n"
        }
      ],
      "execution_count": 16,
      "metadata": {
        "gather": {
          "logged": 1724472146805
        }
      }
    },
    {
      "cell_type": "code",
      "source": [
        "from azureml.core.compute import ComputeTarget, AmlCompute\n",
        "\n",
        "cluster_name = subscription_name\n",
        "\n",
        "vm_size = \"Standard_D2_V2\"\n",
        "compute_config = AmlCompute.provisioning_configuration(vm_size=vm_size, max_nodes=4)\n",
        "#Create the compute cluster\n",
        "compute_target = ComputeTarget.create(ws,cluster_name, compute_config)\n",
        "#wait for the compute ready\n",
        "compute_target.wait_for_completion(show_output=True)"
      ],
      "outputs": [
        {
          "output_type": "display_data",
          "data": {
            "application/vnd.livy.statement-meta+json": {
              "spark_pool": "64cad391-4c78-4947-a062-a4e8125f2168",
              "statement_id": 61,
              "statement_ids": [
                61
              ],
              "state": "finished",
              "livy_statement_state": "available",
              "spark_jobs": {
                "numbers": {
                  "FAILED": 0,
                  "RUNNING": 0,
                  "UNKNOWN": 0,
                  "SUCCEEDED": 0
                },
                "jobs": [],
                "limit": 20,
                "rule": "ALL_DESC"
              },
              "session_id": "1",
              "normalized_state": "finished",
              "queued_time": "2024-08-24T04:01:46.1029969Z",
              "session_start_time": null,
              "execution_start_time": "2024-08-24T04:02:26.7609094Z",
              "execution_finish_time": "2024-08-24T04:02:40.3413707Z",
              "parent_msg_id": "f5ec17a1-2fb3-4f1d-b495-eb5000776275"
            },
            "text/plain": "StatementMeta(64cad391-4c78-4947-a062-a4e8125f2168, 1, 61, Finished, Available, Finished)"
          },
          "metadata": {}
        },
        {
          "output_type": "stream",
          "name": "stdout",
          "text": "InProgress..\nSucceededProvisioning operation finished, operation \"Succeeded\"\nSucceeded\nAmlCompute wait for completion finished\n\nMinimum number of nodes requested have been provisioned\n"
        }
      ],
      "execution_count": 17,
      "metadata": {
        "gather": {
          "logged": 1724472160577
        },
        "jupyter": {
          "outputs_hidden": false,
          "source_hidden": false
        },
        "nteract": {
          "transient": {
            "deleting": false
          }
        }
      }
    },
    {
      "cell_type": "code",
      "source": [
        "from azureml.widgets import RunDetails\n",
        "from azureml.train.sklearn import SKLearn\n",
        "from azureml.train.hyperdrive.run import PrimaryMetricGoal\n",
        "from azureml.train.hyperdrive.policy import BanditPolicy\n",
        "from azureml.train.hyperdrive.sampling import RandomParameterSampling\n",
        "from azureml.train.hyperdrive.runconfig import HyperDriveConfig\n",
        "from azureml.train.hyperdrive.parameter_expressions import choice, uniform\n",
        "from azureml.core import Environment, ScriptRunConfig\n",
        "import os\n",
        "\n",
        "# Specify parameter sampler\n",
        "ps = RandomParameterSampling(\n",
        "    {\"learning_rate\": uniform(0.05, 0.1),\n",
        "    \"batch_size\" : choice(16, 32, 64, 128)}\n",
        ")\n",
        "\n",
        "# Specify a Policy\n",
        "policy = BanditPolicy(slack_factor=0.2, evaluation_interval=1)\n",
        "\n",
        "if \"training\" not in os.listdir():\n",
        "    os.mkdir(\"./training\")\n",
        "\n",
        "# Setup environment for your training run\n",
        "sklearn_env = Environment.from_conda_specification(name='sklearn-env', \n",
        "file_path='Users/odl_user_266986/conda_dependencies.yml')\n",
        "\n",
        "# Create a ScriptRunConfig Object to specify the configuration details of your training job\n",
        "src = ScriptRunConfig(\n",
        "    source_directory=\".\",\n",
        "    script=\"train.py\",\n",
        "    environment=sklearn_env,\n",
        "    compute_target=compute_target\n",
        ")\n",
        "\n",
        "# Create a HyperDriveConfig using the src object, hyperparameter sampler, and policy.\n",
        "hyperdrive_config = HyperDriveConfig(\n",
        "    run_config=src,\n",
        "    hyperparameter_sampling=ps,\n",
        "    policy=policy,\n",
        "    primary_metric_name=\"AUC\",\n",
        "    primary_metric_goal=PrimaryMetricGoal.MAXIMIZE,\n",
        "    max_total_runs=10,\n",
        "    max_concurrent_runs=2\n",
        ")"
      ],
      "outputs": [
        {
          "output_type": "display_data",
          "data": {
            "application/vnd.livy.statement-meta+json": {
              "spark_pool": "64cad391-4c78-4947-a062-a4e8125f2168",
              "statement_id": 62,
              "statement_ids": [
                62
              ],
              "state": "finished",
              "livy_statement_state": "available",
              "spark_jobs": {
                "numbers": {
                  "FAILED": 0,
                  "RUNNING": 0,
                  "UNKNOWN": 0,
                  "SUCCEEDED": 0
                },
                "jobs": [],
                "limit": 20,
                "rule": "ALL_DESC"
              },
              "session_id": "1",
              "normalized_state": "finished",
              "queued_time": "2024-08-24T04:01:58.6586275Z",
              "session_start_time": null,
              "execution_start_time": "2024-08-24T04:02:40.5296546Z",
              "execution_finish_time": "2024-08-24T04:02:46.1139473Z",
              "parent_msg_id": "f2f6b20c-e9cd-467a-88b8-6c044332509e"
            },
            "text/plain": "StatementMeta(64cad391-4c78-4947-a062-a4e8125f2168, 1, 62, Finished, Available, Finished)"
          },
          "metadata": {}
        }
      ],
      "execution_count": 18,
      "metadata": {
        "gather": {
          "logged": 1724472166265
        },
        "jupyter": {
          "outputs_hidden": false,
          "source_hidden": false
        },
        "nteract": {
          "transient": {
            "deleting": false
          }
        }
      }
    },
    {
      "cell_type": "code",
      "source": [
        "# Submit your hyperdrive run to the experiment and show run details with the widget.\n",
        "\n",
        "experiment = Experiment(workspace=ws, name=\"my-hyperdive-experiment\")\n",
        "experiment_run = experiment.submit(hyperdrive_config)\n",
        "RunDetails(experiment_run).show()"
      ],
      "outputs": [
        {
          "output_type": "display_data",
          "data": {
            "application/vnd.livy.statement-meta+json": {
              "spark_pool": "64cad391-4c78-4947-a062-a4e8125f2168",
              "statement_id": 63,
              "statement_ids": [
                63
              ],
              "state": "finished",
              "livy_statement_state": "available",
              "spark_jobs": {
                "numbers": {
                  "FAILED": 0,
                  "RUNNING": 0,
                  "UNKNOWN": 0,
                  "SUCCEEDED": 0
                },
                "jobs": [],
                "limit": 20,
                "rule": "ALL_DESC"
              },
              "session_id": "1",
              "normalized_state": "finished",
              "queued_time": "2024-08-24T04:03:46.9695449Z",
              "session_start_time": null,
              "execution_start_time": "2024-08-24T04:03:47.1158072Z",
              "execution_finish_time": "2024-08-24T04:03:52.6514985Z",
              "parent_msg_id": "e58f1edf-0728-48ef-a49c-d35e9cfca1da"
            },
            "text/plain": "StatementMeta(64cad391-4c78-4947-a062-a4e8125f2168, 1, 63, Finished, Available, Finished)"
          },
          "metadata": {}
        },
        {
          "output_type": "display_data",
          "data": {
            "text/plain": "_HyperDriveWidget(widget_settings={'childWidgetDisplay': 'popup', 'send_telemetry': False, 'log_level': 'INFO'…",
            "application/vnd.jupyter.widget-view+json": {
              "version_major": 2,
              "version_minor": 0,
              "model_id": "7d6fa4dc80da430ca39c8759d6e36088"
            }
          },
          "metadata": {}
        },
        {
          "output_type": "display_data",
          "data": {
            "application/aml.mini.widget.v1": "{\"loading\": true}"
          },
          "metadata": {}
        }
      ],
      "execution_count": 19,
      "metadata": {
        "gather": {
          "logged": 1724472232998
        }
      }
    },
    {
      "cell_type": "code",
      "source": [
        "import joblib\n",
        "# Get your best run and save the model from that run.\n",
        "\n",
        "best_run = experiment_run.get_best_run_by_primary_metric()\n",
        "model= best_run.register_model(model_name=\"best_model\",\n",
        "model_path=\"outputs/best_model.pkl\")"
      ],
      "outputs": [
        {
          "output_type": "display_data",
          "data": {
            "application/vnd.livy.statement-meta+json": {
              "spark_pool": "64cad391-4c78-4947-a062-a4e8125f2168",
              "statement_id": 64,
              "statement_ids": [
                64
              ],
              "state": "finished",
              "livy_statement_state": "available",
              "spark_jobs": {
                "numbers": {
                  "FAILED": 0,
                  "RUNNING": 0,
                  "UNKNOWN": 0,
                  "SUCCEEDED": 0
                },
                "jobs": [],
                "limit": 20,
                "rule": "ALL_DESC"
              },
              "session_id": "1",
              "normalized_state": "finished",
              "queued_time": "2024-08-24T04:05:36.2105012Z",
              "session_start_time": null,
              "execution_start_time": "2024-08-24T04:05:36.3817153Z",
              "execution_finish_time": "2024-08-24T04:05:40.5351541Z",
              "parent_msg_id": "765063cb-8b19-4481-8c08-bf1689f5a11b"
            },
            "text/plain": "StatementMeta(64cad391-4c78-4947-a062-a4e8125f2168, 1, 64, Finished, Available, Finished)"
          },
          "metadata": {}
        },
        {
          "output_type": "error",
          "ename": "AttributeError",
          "evalue": "'NoneType' object has no attribute 'register_model'",
          "traceback": [
            "\u001b[0;31m---------------------------------------------------------------------------\u001b[0m",
            "\u001b[0;31mAttributeError\u001b[0m                            Traceback (most recent call last)",
            "Cell \u001b[0;32mIn [19], line 5\u001b[0m\n\u001b[1;32m      2\u001b[0m \u001b[38;5;66;03m# Get your best run and save the model from that run.\u001b[39;00m\n\u001b[1;32m      4\u001b[0m best_run \u001b[38;5;241m=\u001b[39m experiment_run\u001b[38;5;241m.\u001b[39mget_best_run_by_primary_metric()\n\u001b[0;32m----> 5\u001b[0m model\u001b[38;5;241m=\u001b[39m \u001b[43mbest_run\u001b[49m\u001b[38;5;241;43m.\u001b[39;49m\u001b[43mregister_model\u001b[49m(model_name\u001b[38;5;241m=\u001b[39m\u001b[38;5;124m\"\u001b[39m\u001b[38;5;124mbest_model\u001b[39m\u001b[38;5;124m\"\u001b[39m,\n\u001b[1;32m      6\u001b[0m model_path\u001b[38;5;241m=\u001b[39m\u001b[38;5;124m\"\u001b[39m\u001b[38;5;124moutputs/best_model.pkl\u001b[39m\u001b[38;5;124m\"\u001b[39m)\n",
            "\u001b[0;31mAttributeError\u001b[0m: 'NoneType' object has no attribute 'register_model'"
          ]
        }
      ],
      "execution_count": 20,
      "metadata": {
        "gather": {
          "logged": 1724472340714
        },
        "jupyter": {
          "outputs_hidden": false,
          "source_hidden": false
        },
        "nteract": {
          "transient": {
            "deleting": false
          }
        }
      }
    },
    {
      "cell_type": "code",
      "source": [
        "from azureml.data.dataset_factory import TabularDatasetFactory\n",
        "\n",
        "# Create TabularDataset using TabularDatasetFactory\n",
        "# Data is available at: \n",
        "# \"https://automlsamplenotebookdata.blob.core.windows.net/automl-sample-notebook-data/bankmarketing_train.csv\"\n",
        "\n",
        "### YOUR CODE HERE ###"
      ],
      "outputs": [],
      "execution_count": null,
      "metadata": {}
    },
    {
      "cell_type": "code",
      "source": [
        "from train import clean_data\n",
        "\n",
        "# Use the clean_data function to clean your data.\n",
        "x, y = clean_data(### YOUR DATA OBJECT HERE ###)"
      ],
      "outputs": [],
      "execution_count": null,
      "metadata": {
        "gather": {
          "logged": 1598275726969
        },
        "jupyter": {
          "outputs_hidden": false,
          "source_hidden": false
        },
        "nteract": {
          "transient": {
            "deleting": false
          }
        }
      }
    },
    {
      "cell_type": "code",
      "source": [
        "from azureml.train.automl import AutoMLConfig\n",
        "\n",
        "# Set parameters for AutoMLConfig\n",
        "# NOTE: DO NOT CHANGE THE experiment_timeout_minutes PARAMETER OR YOUR INSTANCE WILL TIME OUT.\n",
        "# If you wish to run the experiment longer, you will need to run this notebook in your own\n",
        "# Azure tenant, which will incur personal costs.\n",
        "automl_config = AutoMLConfig(\n",
        "    experiment_timeout_minutes=30,\n",
        "    task=,\n",
        "    primary_metric=,\n",
        "    training_data=,\n",
        "    label_column_name=,\n",
        "    n_cross_validations=)"
      ],
      "outputs": [],
      "execution_count": null,
      "metadata": {
        "gather": {
          "logged": 1598275665403
        },
        "jupyter": {
          "outputs_hidden": false,
          "source_hidden": false
        },
        "nteract": {
          "transient": {
            "deleting": false
          }
        }
      }
    },
    {
      "cell_type": "code",
      "source": [
        "# Submit your automl run\n",
        "\n",
        "### YOUR CODE HERE ###"
      ],
      "outputs": [],
      "execution_count": null,
      "metadata": {
        "jupyter": {
          "outputs_hidden": false,
          "source_hidden": false
        },
        "nteract": {
          "transient": {
            "deleting": false
          }
        }
      }
    },
    {
      "cell_type": "code",
      "source": [
        "# Retrieve and save your best automl model.\n",
        "\n",
        "### YOUR CODE HERE ###"
      ],
      "outputs": [],
      "execution_count": null,
      "metadata": {}
    }
  ],
  "metadata": {
    "kernel_info": {
      "name": "synapse_pyspark"
    },
    "kernelspec": {
      "name": "synapse_pyspark",
      "language": "Python",
      "display_name": "Synapse PySpark"
    },
    "language_info": {
      "name": "python",
      "version": "3.8.0",
      "mimetype": "text/x-python",
      "file_extension": ".py",
      "pygments_lexer": "ipython",
      "codemirror_mode": "ipython",
      "nbconvert_exporter": "python"
    },
    "nteract": {
      "version": "nteract-front-end@1.0.0"
    },
    "microsoft": {
      "ms_spell_check": {
        "ms_spell_check_language": "en"
      }
    }
  },
  "nbformat": 4,
  "nbformat_minor": 2
}